{
 "cells": [
  {
   "cell_type": "code",
   "execution_count": 1,
   "id": "7918b932",
   "metadata": {},
   "outputs": [],
   "source": [
    "import pandas as pd\n",
    "import numpy as np\n",
    "import matplotlib.pyplot as plt\n",
    "import seaborn as sns\n",
    "import warnings \n",
    "warnings.filterwarnings(\"ignore\")\n",
    "sns.set()\n",
    "%matplotlib inline\n",
    "\n",
    "from numpy import log\n",
    "from pandas import Series\n",
    "from datetime import datetime"
   ]
  },
  {
   "cell_type": "code",
   "execution_count": null,
   "id": "c8a4aa2a",
   "metadata": {},
   "outputs": [],
   "source": [
    "# always take data in squeance order when doing timeseires"
   ]
  },
  {
   "cell_type": "code",
   "execution_count": 78,
   "id": "8ef7264d",
   "metadata": {},
   "outputs": [],
   "source": [
    "df = pd.read_csv('Super_Store.csv', encoding='unicode_escape', parse_dates=['Order Date']).sort_values('Order Date')"
   ]
  },
  {
   "cell_type": "code",
   "execution_count": 79,
   "id": "5d9e2047",
   "metadata": {},
   "outputs": [
    {
     "data": {
      "text/html": [
       "<div>\n",
       "<style scoped>\n",
       "    .dataframe tbody tr th:only-of-type {\n",
       "        vertical-align: middle;\n",
       "    }\n",
       "\n",
       "    .dataframe tbody tr th {\n",
       "        vertical-align: top;\n",
       "    }\n",
       "\n",
       "    .dataframe thead th {\n",
       "        text-align: right;\n",
       "    }\n",
       "</style>\n",
       "<table border=\"1\" class=\"dataframe\">\n",
       "  <thead>\n",
       "    <tr style=\"text-align: right;\">\n",
       "      <th></th>\n",
       "      <th>Row ID</th>\n",
       "      <th>Order ID</th>\n",
       "      <th>Order Date</th>\n",
       "      <th>Ship Date</th>\n",
       "      <th>Ship Mode</th>\n",
       "      <th>Customer ID</th>\n",
       "      <th>Customer Name</th>\n",
       "      <th>Segment</th>\n",
       "      <th>Country</th>\n",
       "      <th>City</th>\n",
       "      <th>...</th>\n",
       "      <th>Postal Code</th>\n",
       "      <th>Region</th>\n",
       "      <th>Product ID</th>\n",
       "      <th>Category</th>\n",
       "      <th>Sub-Category</th>\n",
       "      <th>Product Name</th>\n",
       "      <th>Sales</th>\n",
       "      <th>Quantity</th>\n",
       "      <th>Discount</th>\n",
       "      <th>Profit</th>\n",
       "    </tr>\n",
       "  </thead>\n",
       "  <tbody>\n",
       "    <tr>\n",
       "      <th>1577</th>\n",
       "      <td>7475</td>\n",
       "      <td>CA-2014-167199</td>\n",
       "      <td>2014-01-06</td>\n",
       "      <td>1/10/2014</td>\n",
       "      <td>Standard Class</td>\n",
       "      <td>ME-17320</td>\n",
       "      <td>Maria Etezadi</td>\n",
       "      <td>Home Office</td>\n",
       "      <td>United States</td>\n",
       "      <td>Henderson</td>\n",
       "      <td>...</td>\n",
       "      <td>42420</td>\n",
       "      <td>South</td>\n",
       "      <td>FUR-CH-10004063</td>\n",
       "      <td>Furniture</td>\n",
       "      <td>Chairs</td>\n",
       "      <td>Global Deluxe High-Back Manager's Chair</td>\n",
       "      <td>2573.820</td>\n",
       "      <td>9</td>\n",
       "      <td>0.0</td>\n",
       "      <td>746.4078</td>\n",
       "    </tr>\n",
       "    <tr>\n",
       "      <th>1626</th>\n",
       "      <td>7661</td>\n",
       "      <td>CA-2014-105417</td>\n",
       "      <td>2014-01-07</td>\n",
       "      <td>1/12/2014</td>\n",
       "      <td>Standard Class</td>\n",
       "      <td>VS-21820</td>\n",
       "      <td>Vivek Sundaresam</td>\n",
       "      <td>Consumer</td>\n",
       "      <td>United States</td>\n",
       "      <td>Huntsville</td>\n",
       "      <td>...</td>\n",
       "      <td>77340</td>\n",
       "      <td>Central</td>\n",
       "      <td>FUR-FU-10004864</td>\n",
       "      <td>Furniture</td>\n",
       "      <td>Furnishings</td>\n",
       "      <td>Howard Miller 14-1/2\" Diameter Chrome Round Wa...</td>\n",
       "      <td>76.728</td>\n",
       "      <td>3</td>\n",
       "      <td>0.6</td>\n",
       "      <td>-53.7096</td>\n",
       "    </tr>\n",
       "    <tr>\n",
       "      <th>181</th>\n",
       "      <td>867</td>\n",
       "      <td>CA-2014-149020</td>\n",
       "      <td>2014-01-10</td>\n",
       "      <td>1/15/2014</td>\n",
       "      <td>Standard Class</td>\n",
       "      <td>AJ-10780</td>\n",
       "      <td>Anthony Jacobs</td>\n",
       "      <td>Corporate</td>\n",
       "      <td>United States</td>\n",
       "      <td>Springfield</td>\n",
       "      <td>...</td>\n",
       "      <td>22153</td>\n",
       "      <td>South</td>\n",
       "      <td>FUR-FU-10000965</td>\n",
       "      <td>Furniture</td>\n",
       "      <td>Furnishings</td>\n",
       "      <td>Howard Miller 11-1/2\" Diameter Ridgewood Wall ...</td>\n",
       "      <td>51.940</td>\n",
       "      <td>1</td>\n",
       "      <td>0.0</td>\n",
       "      <td>21.2954</td>\n",
       "    </tr>\n",
       "    <tr>\n",
       "      <th>150</th>\n",
       "      <td>717</td>\n",
       "      <td>CA-2014-130092</td>\n",
       "      <td>2014-01-11</td>\n",
       "      <td>1/14/2014</td>\n",
       "      <td>First Class</td>\n",
       "      <td>SV-20365</td>\n",
       "      <td>Seth Vernon</td>\n",
       "      <td>Consumer</td>\n",
       "      <td>United States</td>\n",
       "      <td>Dover</td>\n",
       "      <td>...</td>\n",
       "      <td>19901</td>\n",
       "      <td>East</td>\n",
       "      <td>FUR-FU-10000010</td>\n",
       "      <td>Furniture</td>\n",
       "      <td>Furnishings</td>\n",
       "      <td>DAX Value U-Channel Document Frames, Easel Back</td>\n",
       "      <td>9.940</td>\n",
       "      <td>2</td>\n",
       "      <td>0.0</td>\n",
       "      <td>3.0814</td>\n",
       "    </tr>\n",
       "    <tr>\n",
       "      <th>631</th>\n",
       "      <td>2979</td>\n",
       "      <td>CA-2014-109232</td>\n",
       "      <td>2014-01-13</td>\n",
       "      <td>1/16/2014</td>\n",
       "      <td>Second Class</td>\n",
       "      <td>ND-18370</td>\n",
       "      <td>Natalie DeCherney</td>\n",
       "      <td>Consumer</td>\n",
       "      <td>United States</td>\n",
       "      <td>Mount Pleasant</td>\n",
       "      <td>...</td>\n",
       "      <td>29464</td>\n",
       "      <td>South</td>\n",
       "      <td>FUR-CH-10000422</td>\n",
       "      <td>Furniture</td>\n",
       "      <td>Chairs</td>\n",
       "      <td>Global Highback Leather Tilter in Burgundy</td>\n",
       "      <td>545.940</td>\n",
       "      <td>6</td>\n",
       "      <td>0.0</td>\n",
       "      <td>87.3504</td>\n",
       "    </tr>\n",
       "  </tbody>\n",
       "</table>\n",
       "<p>5 rows × 21 columns</p>\n",
       "</div>"
      ],
      "text/plain": [
       "      Row ID        Order ID Order Date  Ship Date       Ship Mode  \\\n",
       "1577    7475  CA-2014-167199 2014-01-06  1/10/2014  Standard Class   \n",
       "1626    7661  CA-2014-105417 2014-01-07  1/12/2014  Standard Class   \n",
       "181      867  CA-2014-149020 2014-01-10  1/15/2014  Standard Class   \n",
       "150      717  CA-2014-130092 2014-01-11  1/14/2014     First Class   \n",
       "631     2979  CA-2014-109232 2014-01-13  1/16/2014    Second Class   \n",
       "\n",
       "     Customer ID      Customer Name      Segment        Country  \\\n",
       "1577    ME-17320      Maria Etezadi  Home Office  United States   \n",
       "1626    VS-21820   Vivek Sundaresam     Consumer  United States   \n",
       "181     AJ-10780     Anthony Jacobs    Corporate  United States   \n",
       "150     SV-20365        Seth Vernon     Consumer  United States   \n",
       "631     ND-18370  Natalie DeCherney     Consumer  United States   \n",
       "\n",
       "                City  ... Postal Code   Region       Product ID   Category  \\\n",
       "1577       Henderson  ...       42420    South  FUR-CH-10004063  Furniture   \n",
       "1626      Huntsville  ...       77340  Central  FUR-FU-10004864  Furniture   \n",
       "181      Springfield  ...       22153    South  FUR-FU-10000965  Furniture   \n",
       "150            Dover  ...       19901     East  FUR-FU-10000010  Furniture   \n",
       "631   Mount Pleasant  ...       29464    South  FUR-CH-10000422  Furniture   \n",
       "\n",
       "     Sub-Category                                       Product Name  \\\n",
       "1577       Chairs            Global Deluxe High-Back Manager's Chair   \n",
       "1626  Furnishings  Howard Miller 14-1/2\" Diameter Chrome Round Wa...   \n",
       "181   Furnishings  Howard Miller 11-1/2\" Diameter Ridgewood Wall ...   \n",
       "150   Furnishings    DAX Value U-Channel Document Frames, Easel Back   \n",
       "631        Chairs         Global Highback Leather Tilter in Burgundy   \n",
       "\n",
       "         Sales  Quantity  Discount    Profit  \n",
       "1577  2573.820         9       0.0  746.4078  \n",
       "1626    76.728         3       0.6  -53.7096  \n",
       "181     51.940         1       0.0   21.2954  \n",
       "150      9.940         2       0.0    3.0814  \n",
       "631    545.940         6       0.0   87.3504  \n",
       "\n",
       "[5 rows x 21 columns]"
      ]
     },
     "execution_count": 79,
     "metadata": {},
     "output_type": "execute_result"
    }
   ],
   "source": [
    "df.head()"
   ]
  },
  {
   "cell_type": "code",
   "execution_count": 80,
   "id": "422c7f84",
   "metadata": {},
   "outputs": [
    {
     "name": "stdout",
     "output_type": "stream",
     "text": [
      "<class 'pandas.core.frame.DataFrame'>\n",
      "Int64Index: 2121 entries, 1577 to 186\n",
      "Data columns (total 21 columns):\n",
      " #   Column         Non-Null Count  Dtype         \n",
      "---  ------         --------------  -----         \n",
      " 0   Row ID         2121 non-null   int64         \n",
      " 1   Order ID       2121 non-null   object        \n",
      " 2   Order Date     2121 non-null   datetime64[ns]\n",
      " 3   Ship Date      2121 non-null   object        \n",
      " 4   Ship Mode      2121 non-null   object        \n",
      " 5   Customer ID    2121 non-null   object        \n",
      " 6   Customer Name  2121 non-null   object        \n",
      " 7   Segment        2121 non-null   object        \n",
      " 8   Country        2121 non-null   object        \n",
      " 9   City           2121 non-null   object        \n",
      " 10  State          2121 non-null   object        \n",
      " 11  Postal Code    2121 non-null   int64         \n",
      " 12  Region         2121 non-null   object        \n",
      " 13  Product ID     2121 non-null   object        \n",
      " 14  Category       2121 non-null   object        \n",
      " 15  Sub-Category   2121 non-null   object        \n",
      " 16  Product Name   2121 non-null   object        \n",
      " 17  Sales          2121 non-null   float64       \n",
      " 18  Quantity       2121 non-null   int64         \n",
      " 19  Discount       2121 non-null   float64       \n",
      " 20  Profit         2121 non-null   float64       \n",
      "dtypes: datetime64[ns](1), float64(3), int64(3), object(14)\n",
      "memory usage: 364.5+ KB\n"
     ]
    }
   ],
   "source": [
    "df.info()"
   ]
  },
  {
   "cell_type": "code",
   "execution_count": 81,
   "id": "c249e0e2",
   "metadata": {},
   "outputs": [],
   "source": [
    "df_new = df[['Order Date','Sales']]"
   ]
  },
  {
   "cell_type": "code",
   "execution_count": 82,
   "id": "3c9fb77b",
   "metadata": {},
   "outputs": [
    {
     "data": {
      "text/html": [
       "<div>\n",
       "<style scoped>\n",
       "    .dataframe tbody tr th:only-of-type {\n",
       "        vertical-align: middle;\n",
       "    }\n",
       "\n",
       "    .dataframe tbody tr th {\n",
       "        vertical-align: top;\n",
       "    }\n",
       "\n",
       "    .dataframe thead th {\n",
       "        text-align: right;\n",
       "    }\n",
       "</style>\n",
       "<table border=\"1\" class=\"dataframe\">\n",
       "  <thead>\n",
       "    <tr style=\"text-align: right;\">\n",
       "      <th></th>\n",
       "      <th>Order Date</th>\n",
       "      <th>Sales</th>\n",
       "    </tr>\n",
       "  </thead>\n",
       "  <tbody>\n",
       "    <tr>\n",
       "      <th>1577</th>\n",
       "      <td>2014-01-06</td>\n",
       "      <td>2573.820</td>\n",
       "    </tr>\n",
       "    <tr>\n",
       "      <th>1626</th>\n",
       "      <td>2014-01-07</td>\n",
       "      <td>76.728</td>\n",
       "    </tr>\n",
       "    <tr>\n",
       "      <th>181</th>\n",
       "      <td>2014-01-10</td>\n",
       "      <td>51.940</td>\n",
       "    </tr>\n",
       "    <tr>\n",
       "      <th>150</th>\n",
       "      <td>2014-01-11</td>\n",
       "      <td>9.940</td>\n",
       "    </tr>\n",
       "    <tr>\n",
       "      <th>631</th>\n",
       "      <td>2014-01-13</td>\n",
       "      <td>545.940</td>\n",
       "    </tr>\n",
       "  </tbody>\n",
       "</table>\n",
       "</div>"
      ],
      "text/plain": [
       "     Order Date     Sales\n",
       "1577 2014-01-06  2573.820\n",
       "1626 2014-01-07    76.728\n",
       "181  2014-01-10    51.940\n",
       "150  2014-01-11     9.940\n",
       "631  2014-01-13   545.940"
      ]
     },
     "execution_count": 82,
     "metadata": {},
     "output_type": "execute_result"
    }
   ],
   "source": [
    "df_new.head()"
   ]
  },
  {
   "cell_type": "code",
   "execution_count": 83,
   "id": "2cf99a61",
   "metadata": {},
   "outputs": [
    {
     "data": {
      "text/html": [
       "<div>\n",
       "<style scoped>\n",
       "    .dataframe tbody tr th:only-of-type {\n",
       "        vertical-align: middle;\n",
       "    }\n",
       "\n",
       "    .dataframe tbody tr th {\n",
       "        vertical-align: top;\n",
       "    }\n",
       "\n",
       "    .dataframe thead th {\n",
       "        text-align: right;\n",
       "    }\n",
       "</style>\n",
       "<table border=\"1\" class=\"dataframe\">\n",
       "  <thead>\n",
       "    <tr style=\"text-align: right;\">\n",
       "      <th></th>\n",
       "      <th>Order Date</th>\n",
       "      <th>Sales</th>\n",
       "    </tr>\n",
       "  </thead>\n",
       "  <tbody>\n",
       "    <tr>\n",
       "      <th>1619</th>\n",
       "      <td>2017-12-29</td>\n",
       "      <td>258.750</td>\n",
       "    </tr>\n",
       "    <tr>\n",
       "      <th>1617</th>\n",
       "      <td>2017-12-29</td>\n",
       "      <td>1207.840</td>\n",
       "    </tr>\n",
       "    <tr>\n",
       "      <th>1057</th>\n",
       "      <td>2017-12-29</td>\n",
       "      <td>101.120</td>\n",
       "    </tr>\n",
       "    <tr>\n",
       "      <th>1618</th>\n",
       "      <td>2017-12-29</td>\n",
       "      <td>300.980</td>\n",
       "    </tr>\n",
       "    <tr>\n",
       "      <th>186</th>\n",
       "      <td>2017-12-30</td>\n",
       "      <td>323.136</td>\n",
       "    </tr>\n",
       "  </tbody>\n",
       "</table>\n",
       "</div>"
      ],
      "text/plain": [
       "     Order Date     Sales\n",
       "1619 2017-12-29   258.750\n",
       "1617 2017-12-29  1207.840\n",
       "1057 2017-12-29   101.120\n",
       "1618 2017-12-29   300.980\n",
       "186  2017-12-30   323.136"
      ]
     },
     "execution_count": 83,
     "metadata": {},
     "output_type": "execute_result"
    }
   ],
   "source": [
    "df_new.tail()"
   ]
  },
  {
   "cell_type": "code",
   "execution_count": 84,
   "id": "56dde3de",
   "metadata": {},
   "outputs": [
    {
     "data": {
      "text/html": [
       "<div>\n",
       "<style scoped>\n",
       "    .dataframe tbody tr th:only-of-type {\n",
       "        vertical-align: middle;\n",
       "    }\n",
       "\n",
       "    .dataframe tbody tr th {\n",
       "        vertical-align: top;\n",
       "    }\n",
       "\n",
       "    .dataframe thead th {\n",
       "        text-align: right;\n",
       "    }\n",
       "</style>\n",
       "<table border=\"1\" class=\"dataframe\">\n",
       "  <thead>\n",
       "    <tr style=\"text-align: right;\">\n",
       "      <th></th>\n",
       "      <th>Order Date</th>\n",
       "      <th>Sales</th>\n",
       "    </tr>\n",
       "  </thead>\n",
       "  <tbody>\n",
       "    <tr>\n",
       "      <th>719</th>\n",
       "      <td>2014-04-23</td>\n",
       "      <td>281.372</td>\n",
       "    </tr>\n",
       "    <tr>\n",
       "      <th>1759</th>\n",
       "      <td>2015-07-05</td>\n",
       "      <td>4.928</td>\n",
       "    </tr>\n",
       "    <tr>\n",
       "      <th>1238</th>\n",
       "      <td>2016-07-04</td>\n",
       "      <td>25.400</td>\n",
       "    </tr>\n",
       "  </tbody>\n",
       "</table>\n",
       "</div>"
      ],
      "text/plain": [
       "     Order Date    Sales\n",
       "719  2014-04-23  281.372\n",
       "1759 2015-07-05    4.928\n",
       "1238 2016-07-04   25.400"
      ]
     },
     "execution_count": 84,
     "metadata": {},
     "output_type": "execute_result"
    }
   ],
   "source": [
    "df_new[df_new.duplicated()]"
   ]
  },
  {
   "cell_type": "code",
   "execution_count": 85,
   "id": "b0e4ab12",
   "metadata": {},
   "outputs": [
    {
     "data": {
      "text/html": [
       "<div>\n",
       "<style scoped>\n",
       "    .dataframe tbody tr th:only-of-type {\n",
       "        vertical-align: middle;\n",
       "    }\n",
       "\n",
       "    .dataframe tbody tr th {\n",
       "        vertical-align: top;\n",
       "    }\n",
       "\n",
       "    .dataframe thead th {\n",
       "        text-align: right;\n",
       "    }\n",
       "</style>\n",
       "<table border=\"1\" class=\"dataframe\">\n",
       "  <thead>\n",
       "    <tr style=\"text-align: right;\">\n",
       "      <th></th>\n",
       "      <th>Order Date</th>\n",
       "      <th>Sales</th>\n",
       "    </tr>\n",
       "  </thead>\n",
       "  <tbody>\n",
       "    <tr>\n",
       "      <th>720</th>\n",
       "      <td>2014-04-23</td>\n",
       "      <td>281.372</td>\n",
       "    </tr>\n",
       "    <tr>\n",
       "      <th>719</th>\n",
       "      <td>2014-04-23</td>\n",
       "      <td>281.372</td>\n",
       "    </tr>\n",
       "    <tr>\n",
       "      <th>721</th>\n",
       "      <td>2014-04-23</td>\n",
       "      <td>22.336</td>\n",
       "    </tr>\n",
       "  </tbody>\n",
       "</table>\n",
       "</div>"
      ],
      "text/plain": [
       "    Order Date    Sales\n",
       "720 2014-04-23  281.372\n",
       "719 2014-04-23  281.372\n",
       "721 2014-04-23   22.336"
      ]
     },
     "execution_count": 85,
     "metadata": {},
     "output_type": "execute_result"
    }
   ],
   "source": [
    "\n",
    "df_new[df_new['Order Date']== '2014-04-23' ]"
   ]
  },
  {
   "cell_type": "code",
   "execution_count": 86,
   "id": "df511c32",
   "metadata": {},
   "outputs": [],
   "source": [
    "# 719 and 720 have same values \n",
    "# dropping duplicates"
   ]
  },
  {
   "cell_type": "code",
   "execution_count": 87,
   "id": "a5e34a6c",
   "metadata": {},
   "outputs": [],
   "source": [
    "df_new = df_new.drop_duplicates()"
   ]
  },
  {
   "cell_type": "code",
   "execution_count": 88,
   "id": "f8458f30",
   "metadata": {},
   "outputs": [
    {
     "data": {
      "text/plain": [
       "Order Date    0\n",
       "Sales         0\n",
       "dtype: int64"
      ]
     },
     "execution_count": 88,
     "metadata": {},
     "output_type": "execute_result"
    }
   ],
   "source": [
    "df_new.isnull().sum()"
   ]
  },
  {
   "cell_type": "code",
   "execution_count": 89,
   "id": "2dab4637",
   "metadata": {},
   "outputs": [
    {
     "name": "stdout",
     "output_type": "stream",
     "text": [
      "<class 'pandas.core.frame.DataFrame'>\n",
      "Int64Index: 2118 entries, 1577 to 186\n",
      "Data columns (total 2 columns):\n",
      " #   Column      Non-Null Count  Dtype         \n",
      "---  ------      --------------  -----         \n",
      " 0   Order Date  2118 non-null   datetime64[ns]\n",
      " 1   Sales       2118 non-null   float64       \n",
      "dtypes: datetime64[ns](1), float64(1)\n",
      "memory usage: 49.6 KB\n"
     ]
    }
   ],
   "source": [
    "df_new.info()"
   ]
  },
  {
   "cell_type": "code",
   "execution_count": 90,
   "id": "1ea347bd",
   "metadata": {},
   "outputs": [
    {
     "data": {
      "text/plain": [
       "889"
      ]
     },
     "execution_count": 90,
     "metadata": {},
     "output_type": "execute_result"
    }
   ],
   "source": [
    "df['Order Date'].nunique()"
   ]
  },
  {
   "cell_type": "code",
   "execution_count": 91,
   "id": "d4653b03",
   "metadata": {},
   "outputs": [],
   "source": [
    "# rows are 2118 but unique date are 889 only\n",
    "# therefore group by date and taking avg sale vaue"
   ]
  },
  {
   "cell_type": "code",
   "execution_count": 92,
   "id": "b9a01068",
   "metadata": {},
   "outputs": [],
   "source": [
    "df_new = df_new.groupby('Order Date').agg('mean')"
   ]
  },
  {
   "cell_type": "code",
   "execution_count": 93,
   "id": "929af06d",
   "metadata": {},
   "outputs": [
    {
     "data": {
      "text/html": [
       "<div>\n",
       "<style scoped>\n",
       "    .dataframe tbody tr th:only-of-type {\n",
       "        vertical-align: middle;\n",
       "    }\n",
       "\n",
       "    .dataframe tbody tr th {\n",
       "        vertical-align: top;\n",
       "    }\n",
       "\n",
       "    .dataframe thead th {\n",
       "        text-align: right;\n",
       "    }\n",
       "</style>\n",
       "<table border=\"1\" class=\"dataframe\">\n",
       "  <thead>\n",
       "    <tr style=\"text-align: right;\">\n",
       "      <th></th>\n",
       "      <th>Sales</th>\n",
       "    </tr>\n",
       "    <tr>\n",
       "      <th>Order Date</th>\n",
       "      <th></th>\n",
       "    </tr>\n",
       "  </thead>\n",
       "  <tbody>\n",
       "    <tr>\n",
       "      <th>2014-01-06</th>\n",
       "      <td>2573.8200</td>\n",
       "    </tr>\n",
       "    <tr>\n",
       "      <th>2014-01-07</th>\n",
       "      <td>76.7280</td>\n",
       "    </tr>\n",
       "    <tr>\n",
       "      <th>2014-01-10</th>\n",
       "      <td>51.9400</td>\n",
       "    </tr>\n",
       "    <tr>\n",
       "      <th>2014-01-11</th>\n",
       "      <td>9.9400</td>\n",
       "    </tr>\n",
       "    <tr>\n",
       "      <th>2014-01-13</th>\n",
       "      <td>439.9695</td>\n",
       "    </tr>\n",
       "  </tbody>\n",
       "</table>\n",
       "</div>"
      ],
      "text/plain": [
       "                Sales\n",
       "Order Date           \n",
       "2014-01-06  2573.8200\n",
       "2014-01-07    76.7280\n",
       "2014-01-10    51.9400\n",
       "2014-01-11     9.9400\n",
       "2014-01-13   439.9695"
      ]
     },
     "execution_count": 93,
     "metadata": {},
     "output_type": "execute_result"
    }
   ],
   "source": [
    "df_new.head()"
   ]
  },
  {
   "cell_type": "code",
   "execution_count": 94,
   "id": "b63baa93",
   "metadata": {},
   "outputs": [
    {
     "data": {
      "image/png": "[encoded data removed]",
      "text/plain": [
       "<Figure size 640x480 with 1 Axes>"
      ]
     },
     "metadata": {},
     "output_type": "display_data"
    }
   ],
   "source": [
    "df_new.plot()\n",
    "plt.show()"
   ]
  },
  {
   "cell_type": "code",
   "execution_count": 95,
   "id": "625a817a",
   "metadata": {},
   "outputs": [],
   "source": [
    "df_monthly = df_new.resample('M').mean()"
   ]
  },
  {
   "cell_type": "code",
   "execution_count": 98,
   "id": "cff76b90",
   "metadata": {},
   "outputs": [
    {
     "data": {
      "text/html": [
       "<div>\n",
       "<style scoped>\n",
       "    .dataframe tbody tr th:only-of-type {\n",
       "        vertical-align: middle;\n",
       "    }\n",
       "\n",
       "    .dataframe tbody tr th {\n",
       "        vertical-align: top;\n",
       "    }\n",
       "\n",
       "    .dataframe thead th {\n",
       "        text-align: right;\n",
       "    }\n",
       "</style>\n",
       "<table border=\"1\" class=\"dataframe\">\n",
       "  <thead>\n",
       "    <tr style=\"text-align: right;\">\n",
       "      <th></th>\n",
       "      <th>Sales</th>\n",
       "    </tr>\n",
       "    <tr>\n",
       "      <th>Order Date</th>\n",
       "      <th></th>\n",
       "    </tr>\n",
       "  </thead>\n",
       "  <tbody>\n",
       "    <tr>\n",
       "      <th>2014-01-31</th>\n",
       "      <td>348.226731</td>\n",
       "    </tr>\n",
       "    <tr>\n",
       "      <th>2014-02-28</th>\n",
       "      <td>147.924933</td>\n",
       "    </tr>\n",
       "    <tr>\n",
       "      <th>2014-03-31</th>\n",
       "      <td>447.867029</td>\n",
       "    </tr>\n",
       "    <tr>\n",
       "      <th>2014-04-30</th>\n",
       "      <td>264.305048</td>\n",
       "    </tr>\n",
       "    <tr>\n",
       "      <th>2014-05-31</th>\n",
       "      <td>274.401865</td>\n",
       "    </tr>\n",
       "  </tbody>\n",
       "</table>\n",
       "</div>"
      ],
      "text/plain": [
       "                 Sales\n",
       "Order Date            \n",
       "2014-01-31  348.226731\n",
       "2014-02-28  147.924933\n",
       "2014-03-31  447.867029\n",
       "2014-04-30  264.305048\n",
       "2014-05-31  274.401865"
      ]
     },
     "execution_count": 98,
     "metadata": {},
     "output_type": "execute_result"
    }
   ],
   "source": [
    "df_monthly.head()"
   ]
  },
  {
   "cell_type": "code",
   "execution_count": 97,
   "id": "93c97801",
   "metadata": {},
   "outputs": [
    {
     "data": {
      "text/plain": [
       "<matplotlib.axes._subplots.AxesSubplot at 0x2c89b8223c8>"
      ]
     },
     "execution_count": 97,
     "metadata": {},
     "output_type": "execute_result"
    },
    {
     "data": {
      "image/png": "[encoded data removed]",
      "text/plain": [
       "<Figure size 640x480 with 1 Axes>"
      ]
     },
     "metadata": {},
     "output_type": "display_data"
    }
   ],
   "source": [
    "# taking monthly sales\n",
    "df_monthly.plot()"
   ]
  },
  {
   "cell_type": "code",
   "execution_count": 100,
   "id": "1b7754e9",
   "metadata": {},
   "outputs": [
    {
     "data": {
      "image/png": "[encoded data removed]",
      "text/plain": [
       "<Figure size 640x480 with 4 Axes>"
      ]
     },
     "metadata": {},
     "output_type": "display_data"
    }
   ],
   "source": [
    "# Decomposition to check dataset pattern/component\n",
    "\n",
    "from statsmodels.tsa.seasonal import seasonal_decompose\n",
    "decomposition = seasonal_decompose(df_monthly['Sales'], model='additive', period=12)\n",
    "decomposition.plot()\n",
    "plt.show()"
   ]
  },
  {
   "cell_type": "code",
   "execution_count": 102,
   "id": "92266301",
   "metadata": {},
   "outputs": [
    {
     "data": {
      "text/plain": [
       "0.1846299581288283"
      ]
     },
     "execution_count": 102,
     "metadata": {},
     "output_type": "execute_result"
    }
   ],
   "source": [
    "# Check whether autocorrelation there in the dataset or not ?\n",
    "# Positive Autocorrelation found \n",
    "\n",
    "import statsmodels.api as sm\n",
    "sm.stats.durbin_watson(df_monthly['Sales'])"
   ]
  },
  {
   "cell_type": "markdown",
   "id": "097984e5",
   "metadata": {},
   "source": [
    "### Augmented Dickey Fuller Test \n",
    "TO check time series is sationary or not"
   ]
  },
  {
   "cell_type": "code",
   "execution_count": 103,
   "id": "8e65f9c9",
   "metadata": {},
   "outputs": [
    {
     "data": {
      "text/plain": [
       "(-7.145741259532844,\n",
       " 3.23638681709549e-10,\n",
       " 0,\n",
       " 47,\n",
       " {'1%': -3.5778480370438146,\n",
       "  '5%': -2.925338105429433,\n",
       "  '10%': -2.6007735310095064},\n",
       " 457.41403854238564)"
      ]
     },
     "execution_count": 103,
     "metadata": {},
     "output_type": "execute_result"
    }
   ],
   "source": [
    "from statsmodels.tsa.stattools import adfuller\n",
    "adfuller(df_monthly['Sales'])\n"
   ]
  },
  {
   "cell_type": "code",
   "execution_count": 105,
   "id": "c312223b",
   "metadata": {},
   "outputs": [],
   "source": [
    "# for readbility purpose\n",
    "def adf_check(timeseries):\n",
    "    result = adfuller(timeseries)\n",
    "    print(\"***************Augmented Dickey Fuller Test***************\")\n",
    "    labels = ['ADF Stats Test','p-value','#Lags','No. of obs']\n",
    "    \n",
    "    for a, b in zip(result, labels):\n",
    "        print(b + \" : \"+ str(a))\n",
    "        \n",
    "    if result[1] <=0.05:\n",
    "        print(\"Strong evidence against null hypothesis and my timeseries is Stationary\")\n",
    "    else:\n",
    "        print(\"Week evidence against null hypothesis and my timeseries is Non-Stationary\")    "
   ]
  },
  {
   "cell_type": "code",
   "execution_count": 107,
   "id": "0173626d",
   "metadata": {},
   "outputs": [
    {
     "name": "stdout",
     "output_type": "stream",
     "text": [
      "***************Augmented Dickey Fuller Test***************\n",
      "ADF Stats Test : -7.145741259532844\n",
      "p-value : 3.23638681709549e-10\n",
      "#Lags : 0\n",
      "No. of obs : 47\n",
      "Strong evidence against null hypothesis and my timeseries is Stationary\n"
     ]
    }
   ],
   "source": [
    "adf_check(df_monthly['Sales'])"
   ]
  },
  {
   "cell_type": "code",
   "execution_count": null,
   "id": "9b44e37f",
   "metadata": {},
   "outputs": [],
   "source": [
    "# therefore value for p is 0 for trend"
   ]
  }
 ],
 "metadata": {
  "kernelspec": {
   "display_name": "Python 3 (ipykernel)",
   "language": "python",
   "name": "python3"
  },
  "language_info": {
   "codemirror_mode": {
    "name": "ipython",
    "version": 3
   },
   "file_extension": ".py",
   "mimetype": "text/x-python",
   "name": "python",
   "nbconvert_exporter": "python",
   "pygments_lexer": "ipython3",
   "version": "3.7.4"
  }
 },
 "nbformat": 4,
 "nbformat_minor": 5
}
