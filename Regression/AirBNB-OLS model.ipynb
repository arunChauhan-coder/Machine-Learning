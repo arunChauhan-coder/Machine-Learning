{
 "cells": [
  {
   "cell_type": "markdown",
   "metadata": {},
   "source": [
    "## Importing Libraries"
   ]
  },
  {
   "cell_type": "code",
   "execution_count": 1,
   "metadata": {},
   "outputs": [],
   "source": [
    "import pandas as pd\n",
    "import numpy as np\n",
    "import seaborn as sns\n",
    "import matplotlib.pyplot as plt\n",
    "import warnings\n",
    "sns.set()\n",
    "%matplotlib inline\n",
    "warnings.filterwarnings('ignore')"
   ]
  },
  {
   "cell_type": "markdown",
   "metadata": {},
   "source": [
    "## Importing Dataset"
   ]
  },
  {
   "cell_type": "code",
   "execution_count": 43,
   "metadata": {},
   "outputs": [],
   "source": [
    "# import dataset\n",
    "\n",
    "df = pd.read_csv(\"AirBNB.csv\")"
   ]
  },
  {
   "cell_type": "code",
   "execution_count": 3,
   "metadata": {
    "scrolled": true
   },
   "outputs": [
    {
     "data": {
      "text/html": [
       "<div>\n",
       "<style scoped>\n",
       "    .dataframe tbody tr th:only-of-type {\n",
       "        vertical-align: middle;\n",
       "    }\n",
       "\n",
       "    .dataframe tbody tr th {\n",
       "        vertical-align: top;\n",
       "    }\n",
       "\n",
       "    .dataframe thead th {\n",
       "        text-align: right;\n",
       "    }\n",
       "</style>\n",
       "<table border=\"1\" class=\"dataframe\">\n",
       "  <thead>\n",
       "    <tr style=\"text-align: right;\">\n",
       "      <th></th>\n",
       "      <th>id</th>\n",
       "      <th>room_type</th>\n",
       "      <th>accommodates</th>\n",
       "      <th>bathrooms</th>\n",
       "      <th>cancellation_policy</th>\n",
       "      <th>cleaning_fee</th>\n",
       "      <th>instant_bookable</th>\n",
       "      <th>review_scores_rating</th>\n",
       "      <th>bedrooms</th>\n",
       "      <th>beds</th>\n",
       "      <th>log_price</th>\n",
       "    </tr>\n",
       "  </thead>\n",
       "  <tbody>\n",
       "    <tr>\n",
       "      <td>0</td>\n",
       "      <td>6901257</td>\n",
       "      <td>Entire home/apt</td>\n",
       "      <td>3.0</td>\n",
       "      <td>1.0</td>\n",
       "      <td>strict</td>\n",
       "      <td>True</td>\n",
       "      <td>f</td>\n",
       "      <td>100.0</td>\n",
       "      <td>1.0</td>\n",
       "      <td>1.0</td>\n",
       "      <td>5.010635</td>\n",
       "    </tr>\n",
       "    <tr>\n",
       "      <td>1</td>\n",
       "      <td>6304928</td>\n",
       "      <td>Entire home/apt</td>\n",
       "      <td>7.0</td>\n",
       "      <td>1.0</td>\n",
       "      <td>strict</td>\n",
       "      <td>True</td>\n",
       "      <td>t</td>\n",
       "      <td>93.0</td>\n",
       "      <td>3.0</td>\n",
       "      <td>3.0</td>\n",
       "      <td>5.129899</td>\n",
       "    </tr>\n",
       "    <tr>\n",
       "      <td>2</td>\n",
       "      <td>7919400</td>\n",
       "      <td>Entire home/apt</td>\n",
       "      <td>5.0</td>\n",
       "      <td>1.0</td>\n",
       "      <td>moderate</td>\n",
       "      <td>True</td>\n",
       "      <td>t</td>\n",
       "      <td>92.0</td>\n",
       "      <td>1.0</td>\n",
       "      <td>3.0</td>\n",
       "      <td>4.976734</td>\n",
       "    </tr>\n",
       "    <tr>\n",
       "      <td>3</td>\n",
       "      <td>13418779</td>\n",
       "      <td>Entire home/apt</td>\n",
       "      <td>4.0</td>\n",
       "      <td>1.0</td>\n",
       "      <td>flexible</td>\n",
       "      <td>True</td>\n",
       "      <td>f</td>\n",
       "      <td>NaN</td>\n",
       "      <td>2.0</td>\n",
       "      <td>2.0</td>\n",
       "      <td>6.620073</td>\n",
       "    </tr>\n",
       "    <tr>\n",
       "      <td>4</td>\n",
       "      <td>3808709</td>\n",
       "      <td>Entire home/apt</td>\n",
       "      <td>2.0</td>\n",
       "      <td>1.0</td>\n",
       "      <td>moderate</td>\n",
       "      <td>True</td>\n",
       "      <td>t</td>\n",
       "      <td>40.0</td>\n",
       "      <td>0.0</td>\n",
       "      <td>1.0</td>\n",
       "      <td>4.744932</td>\n",
       "    </tr>\n",
       "    <tr>\n",
       "      <td>5</td>\n",
       "      <td>12422935</td>\n",
       "      <td>Private room</td>\n",
       "      <td>2.0</td>\n",
       "      <td>1.0</td>\n",
       "      <td>strict</td>\n",
       "      <td>True</td>\n",
       "      <td>t</td>\n",
       "      <td>100.0</td>\n",
       "      <td>1.0</td>\n",
       "      <td>1.0</td>\n",
       "      <td>4.442651</td>\n",
       "    </tr>\n",
       "    <tr>\n",
       "      <td>6</td>\n",
       "      <td>11825529</td>\n",
       "      <td>Entire home/apt</td>\n",
       "      <td>3.0</td>\n",
       "      <td>1.0</td>\n",
       "      <td>moderate</td>\n",
       "      <td>True</td>\n",
       "      <td>t</td>\n",
       "      <td>97.0</td>\n",
       "      <td>1.0</td>\n",
       "      <td>1.0</td>\n",
       "      <td>4.418841</td>\n",
       "    </tr>\n",
       "    <tr>\n",
       "      <td>7</td>\n",
       "      <td>13971273</td>\n",
       "      <td>Entire home/apt</td>\n",
       "      <td>2.0</td>\n",
       "      <td>1.0</td>\n",
       "      <td>moderate</td>\n",
       "      <td>True</td>\n",
       "      <td>f</td>\n",
       "      <td>93.0</td>\n",
       "      <td>1.0</td>\n",
       "      <td>1.0</td>\n",
       "      <td>4.787492</td>\n",
       "    </tr>\n",
       "    <tr>\n",
       "      <td>8</td>\n",
       "      <td>180792</td>\n",
       "      <td>Private room</td>\n",
       "      <td>2.0</td>\n",
       "      <td>1.0</td>\n",
       "      <td>moderate</td>\n",
       "      <td>True</td>\n",
       "      <td>f</td>\n",
       "      <td>99.0</td>\n",
       "      <td>1.0</td>\n",
       "      <td>1.0</td>\n",
       "      <td>4.787492</td>\n",
       "    </tr>\n",
       "    <tr>\n",
       "      <td>9</td>\n",
       "      <td>5385260</td>\n",
       "      <td>Private room</td>\n",
       "      <td>2.0</td>\n",
       "      <td>1.0</td>\n",
       "      <td>moderate</td>\n",
       "      <td>True</td>\n",
       "      <td>t</td>\n",
       "      <td>90.0</td>\n",
       "      <td>1.0</td>\n",
       "      <td>1.0</td>\n",
       "      <td>3.583519</td>\n",
       "    </tr>\n",
       "    <tr>\n",
       "      <td>10</td>\n",
       "      <td>5578513</td>\n",
       "      <td>Private room</td>\n",
       "      <td>2.0</td>\n",
       "      <td>1.0</td>\n",
       "      <td>strict</td>\n",
       "      <td>True</td>\n",
       "      <td>f</td>\n",
       "      <td>93.0</td>\n",
       "      <td>1.0</td>\n",
       "      <td>1.0</td>\n",
       "      <td>4.605170</td>\n",
       "    </tr>\n",
       "    <tr>\n",
       "      <td>11</td>\n",
       "      <td>17423675</td>\n",
       "      <td>Entire home/apt</td>\n",
       "      <td>4.0</td>\n",
       "      <td>1.5</td>\n",
       "      <td>strict</td>\n",
       "      <td>True</td>\n",
       "      <td>f</td>\n",
       "      <td>97.0</td>\n",
       "      <td>2.0</td>\n",
       "      <td>2.0</td>\n",
       "      <td>5.010635</td>\n",
       "    </tr>\n",
       "    <tr>\n",
       "      <td>12</td>\n",
       "      <td>14066228</td>\n",
       "      <td>Private room</td>\n",
       "      <td>2.0</td>\n",
       "      <td>1.0</td>\n",
       "      <td>flexible</td>\n",
       "      <td>True</td>\n",
       "      <td>f</td>\n",
       "      <td>NaN</td>\n",
       "      <td>1.0</td>\n",
       "      <td>1.0</td>\n",
       "      <td>4.248495</td>\n",
       "    </tr>\n",
       "    <tr>\n",
       "      <td>13</td>\n",
       "      <td>2658946</td>\n",
       "      <td>Entire home/apt</td>\n",
       "      <td>6.0</td>\n",
       "      <td>1.5</td>\n",
       "      <td>strict</td>\n",
       "      <td>True</td>\n",
       "      <td>t</td>\n",
       "      <td>89.0</td>\n",
       "      <td>2.0</td>\n",
       "      <td>3.0</td>\n",
       "      <td>5.298317</td>\n",
       "    </tr>\n",
       "    <tr>\n",
       "      <td>14</td>\n",
       "      <td>583490</td>\n",
       "      <td>Entire home/apt</td>\n",
       "      <td>2.0</td>\n",
       "      <td>1.0</td>\n",
       "      <td>strict</td>\n",
       "      <td>True</td>\n",
       "      <td>f</td>\n",
       "      <td>100.0</td>\n",
       "      <td>1.0</td>\n",
       "      <td>1.0</td>\n",
       "      <td>4.955827</td>\n",
       "    </tr>\n",
       "    <tr>\n",
       "      <td>15</td>\n",
       "      <td>6226658</td>\n",
       "      <td>Private room</td>\n",
       "      <td>2.0</td>\n",
       "      <td>1.5</td>\n",
       "      <td>moderate</td>\n",
       "      <td>True</td>\n",
       "      <td>f</td>\n",
       "      <td>NaN</td>\n",
       "      <td>1.0</td>\n",
       "      <td>1.0</td>\n",
       "      <td>4.094345</td>\n",
       "    </tr>\n",
       "    <tr>\n",
       "      <td>16</td>\n",
       "      <td>7499179</td>\n",
       "      <td>Private room</td>\n",
       "      <td>2.0</td>\n",
       "      <td>1.0</td>\n",
       "      <td>strict</td>\n",
       "      <td>False</td>\n",
       "      <td>f</td>\n",
       "      <td>91.0</td>\n",
       "      <td>1.0</td>\n",
       "      <td>1.0</td>\n",
       "      <td>4.317488</td>\n",
       "    </tr>\n",
       "    <tr>\n",
       "      <td>17</td>\n",
       "      <td>14648556</td>\n",
       "      <td>Private room</td>\n",
       "      <td>2.0</td>\n",
       "      <td>2.0</td>\n",
       "      <td>strict</td>\n",
       "      <td>True</td>\n",
       "      <td>f</td>\n",
       "      <td>88.0</td>\n",
       "      <td>1.0</td>\n",
       "      <td>1.0</td>\n",
       "      <td>4.595120</td>\n",
       "    </tr>\n",
       "    <tr>\n",
       "      <td>18</td>\n",
       "      <td>17589436</td>\n",
       "      <td>Entire home/apt</td>\n",
       "      <td>2.0</td>\n",
       "      <td>1.0</td>\n",
       "      <td>strict</td>\n",
       "      <td>True</td>\n",
       "      <td>f</td>\n",
       "      <td>86.0</td>\n",
       "      <td>1.0</td>\n",
       "      <td>2.0</td>\n",
       "      <td>4.882802</td>\n",
       "    </tr>\n",
       "    <tr>\n",
       "      <td>19</td>\n",
       "      <td>18224863</td>\n",
       "      <td>Entire home/apt</td>\n",
       "      <td>8.0</td>\n",
       "      <td>1.0</td>\n",
       "      <td>strict</td>\n",
       "      <td>True</td>\n",
       "      <td>t</td>\n",
       "      <td>72.0</td>\n",
       "      <td>3.0</td>\n",
       "      <td>3.0</td>\n",
       "      <td>4.595120</td>\n",
       "    </tr>\n",
       "    <tr>\n",
       "      <td>20</td>\n",
       "      <td>7264511</td>\n",
       "      <td>Private room</td>\n",
       "      <td>2.0</td>\n",
       "      <td>1.0</td>\n",
       "      <td>strict</td>\n",
       "      <td>True</td>\n",
       "      <td>f</td>\n",
       "      <td>98.0</td>\n",
       "      <td>1.0</td>\n",
       "      <td>1.0</td>\n",
       "      <td>4.382027</td>\n",
       "    </tr>\n",
       "    <tr>\n",
       "      <td>21</td>\n",
       "      <td>16679342</td>\n",
       "      <td>Private room</td>\n",
       "      <td>2.0</td>\n",
       "      <td>1.5</td>\n",
       "      <td>strict</td>\n",
       "      <td>True</td>\n",
       "      <td>f</td>\n",
       "      <td>89.0</td>\n",
       "      <td>1.0</td>\n",
       "      <td>1.0</td>\n",
       "      <td>3.688879</td>\n",
       "    </tr>\n",
       "    <tr>\n",
       "      <td>22</td>\n",
       "      <td>3563677</td>\n",
       "      <td>Entire home/apt</td>\n",
       "      <td>4.0</td>\n",
       "      <td>1.0</td>\n",
       "      <td>moderate</td>\n",
       "      <td>True</td>\n",
       "      <td>t</td>\n",
       "      <td>99.0</td>\n",
       "      <td>1.0</td>\n",
       "      <td>1.0</td>\n",
       "      <td>4.905275</td>\n",
       "    </tr>\n",
       "    <tr>\n",
       "      <td>23</td>\n",
       "      <td>17615783</td>\n",
       "      <td>Private room</td>\n",
       "      <td>2.0</td>\n",
       "      <td>1.0</td>\n",
       "      <td>moderate</td>\n",
       "      <td>True</td>\n",
       "      <td>f</td>\n",
       "      <td>100.0</td>\n",
       "      <td>1.0</td>\n",
       "      <td>1.0</td>\n",
       "      <td>4.007333</td>\n",
       "    </tr>\n",
       "    <tr>\n",
       "      <td>24</td>\n",
       "      <td>2479317</td>\n",
       "      <td>Entire home/apt</td>\n",
       "      <td>4.0</td>\n",
       "      <td>1.0</td>\n",
       "      <td>moderate</td>\n",
       "      <td>True</td>\n",
       "      <td>f</td>\n",
       "      <td>NaN</td>\n",
       "      <td>1.0</td>\n",
       "      <td>2.0</td>\n",
       "      <td>6.956545</td>\n",
       "    </tr>\n",
       "  </tbody>\n",
       "</table>\n",
       "</div>"
      ],
      "text/plain": [
       "          id        room_type  accommodates  bathrooms cancellation_policy  \\\n",
       "0    6901257  Entire home/apt           3.0        1.0              strict   \n",
       "1    6304928  Entire home/apt           7.0        1.0              strict   \n",
       "2    7919400  Entire home/apt           5.0        1.0            moderate   \n",
       "3   13418779  Entire home/apt           4.0        1.0            flexible   \n",
       "4    3808709  Entire home/apt           2.0        1.0            moderate   \n",
       "5   12422935     Private room           2.0        1.0              strict   \n",
       "6   11825529  Entire home/apt           3.0        1.0            moderate   \n",
       "7   13971273  Entire home/apt           2.0        1.0            moderate   \n",
       "8     180792     Private room           2.0        1.0            moderate   \n",
       "9    5385260     Private room           2.0        1.0            moderate   \n",
       "10   5578513     Private room           2.0        1.0              strict   \n",
       "11  17423675  Entire home/apt           4.0        1.5              strict   \n",
       "12  14066228     Private room           2.0        1.0            flexible   \n",
       "13   2658946  Entire home/apt           6.0        1.5              strict   \n",
       "14    583490  Entire home/apt           2.0        1.0              strict   \n",
       "15   6226658     Private room           2.0        1.5            moderate   \n",
       "16   7499179     Private room           2.0        1.0              strict   \n",
       "17  14648556     Private room           2.0        2.0              strict   \n",
       "18  17589436  Entire home/apt           2.0        1.0              strict   \n",
       "19  18224863  Entire home/apt           8.0        1.0              strict   \n",
       "20   7264511     Private room           2.0        1.0              strict   \n",
       "21  16679342     Private room           2.0        1.5              strict   \n",
       "22   3563677  Entire home/apt           4.0        1.0            moderate   \n",
       "23  17615783     Private room           2.0        1.0            moderate   \n",
       "24   2479317  Entire home/apt           4.0        1.0            moderate   \n",
       "\n",
       "   cleaning_fee instant_bookable  review_scores_rating  bedrooms  beds  \\\n",
       "0          True                f                 100.0       1.0   1.0   \n",
       "1          True                t                  93.0       3.0   3.0   \n",
       "2          True                t                  92.0       1.0   3.0   \n",
       "3          True                f                   NaN       2.0   2.0   \n",
       "4          True                t                  40.0       0.0   1.0   \n",
       "5          True                t                 100.0       1.0   1.0   \n",
       "6          True                t                  97.0       1.0   1.0   \n",
       "7          True                f                  93.0       1.0   1.0   \n",
       "8          True                f                  99.0       1.0   1.0   \n",
       "9          True                t                  90.0       1.0   1.0   \n",
       "10         True                f                  93.0       1.0   1.0   \n",
       "11         True                f                  97.0       2.0   2.0   \n",
       "12         True                f                   NaN       1.0   1.0   \n",
       "13         True                t                  89.0       2.0   3.0   \n",
       "14         True                f                 100.0       1.0   1.0   \n",
       "15         True                f                   NaN       1.0   1.0   \n",
       "16        False                f                  91.0       1.0   1.0   \n",
       "17         True                f                  88.0       1.0   1.0   \n",
       "18         True                f                  86.0       1.0   2.0   \n",
       "19         True                t                  72.0       3.0   3.0   \n",
       "20         True                f                  98.0       1.0   1.0   \n",
       "21         True                f                  89.0       1.0   1.0   \n",
       "22         True                t                  99.0       1.0   1.0   \n",
       "23         True                f                 100.0       1.0   1.0   \n",
       "24         True                f                   NaN       1.0   2.0   \n",
       "\n",
       "    log_price  \n",
       "0    5.010635  \n",
       "1    5.129899  \n",
       "2    4.976734  \n",
       "3    6.620073  \n",
       "4    4.744932  \n",
       "5    4.442651  \n",
       "6    4.418841  \n",
       "7    4.787492  \n",
       "8    4.787492  \n",
       "9    3.583519  \n",
       "10   4.605170  \n",
       "11   5.010635  \n",
       "12   4.248495  \n",
       "13   5.298317  \n",
       "14   4.955827  \n",
       "15   4.094345  \n",
       "16   4.317488  \n",
       "17   4.595120  \n",
       "18   4.882802  \n",
       "19   4.595120  \n",
       "20   4.382027  \n",
       "21   3.688879  \n",
       "22   4.905275  \n",
       "23   4.007333  \n",
       "24   6.956545  "
      ]
     },
     "execution_count": 3,
     "metadata": {},
     "output_type": "execute_result"
    }
   ],
   "source": [
    "df.head(25)"
   ]
  },
  {
   "cell_type": "code",
   "execution_count": 4,
   "metadata": {},
   "outputs": [
    {
     "name": "stdout",
     "output_type": "stream",
     "text": [
      "<class 'pandas.core.frame.DataFrame'>\n",
      "RangeIndex: 74111 entries, 0 to 74110\n",
      "Data columns (total 11 columns):\n",
      "id                      74111 non-null int64\n",
      "room_type               74106 non-null object\n",
      "accommodates            74108 non-null float64\n",
      "bathrooms               73908 non-null float64\n",
      "cancellation_policy     74103 non-null object\n",
      "cleaning_fee            74107 non-null object\n",
      "instant_bookable        74111 non-null object\n",
      "review_scores_rating    57389 non-null float64\n",
      "bedrooms                74019 non-null float64\n",
      "beds                    73980 non-null float64\n",
      "log_price               74111 non-null float64\n",
      "dtypes: float64(6), int64(1), object(4)\n",
      "memory usage: 6.2+ MB\n"
     ]
    }
   ],
   "source": [
    "df.info()"
   ]
  },
  {
   "cell_type": "code",
   "execution_count": 5,
   "metadata": {},
   "outputs": [
    {
     "data": {
      "text/html": [
       "<div>\n",
       "<style scoped>\n",
       "    .dataframe tbody tr th:only-of-type {\n",
       "        vertical-align: middle;\n",
       "    }\n",
       "\n",
       "    .dataframe tbody tr th {\n",
       "        vertical-align: top;\n",
       "    }\n",
       "\n",
       "    .dataframe thead th {\n",
       "        text-align: right;\n",
       "    }\n",
       "</style>\n",
       "<table border=\"1\" class=\"dataframe\">\n",
       "  <thead>\n",
       "    <tr style=\"text-align: right;\">\n",
       "      <th></th>\n",
       "      <th>id</th>\n",
       "      <th>accommodates</th>\n",
       "      <th>bathrooms</th>\n",
       "      <th>review_scores_rating</th>\n",
       "      <th>bedrooms</th>\n",
       "      <th>beds</th>\n",
       "      <th>log_price</th>\n",
       "    </tr>\n",
       "  </thead>\n",
       "  <tbody>\n",
       "    <tr>\n",
       "      <td>count</td>\n",
       "      <td>7.411100e+04</td>\n",
       "      <td>74108.000000</td>\n",
       "      <td>73908.000000</td>\n",
       "      <td>57389.000000</td>\n",
       "      <td>74019.000000</td>\n",
       "      <td>73980.000000</td>\n",
       "      <td>74111.000000</td>\n",
       "    </tr>\n",
       "    <tr>\n",
       "      <td>mean</td>\n",
       "      <td>1.126662e+07</td>\n",
       "      <td>3.155125</td>\n",
       "      <td>1.235272</td>\n",
       "      <td>94.067365</td>\n",
       "      <td>1.265797</td>\n",
       "      <td>1.710868</td>\n",
       "      <td>4.782069</td>\n",
       "    </tr>\n",
       "    <tr>\n",
       "      <td>std</td>\n",
       "      <td>6.081735e+06</td>\n",
       "      <td>2.153603</td>\n",
       "      <td>0.582054</td>\n",
       "      <td>7.836556</td>\n",
       "      <td>0.852149</td>\n",
       "      <td>1.254142</td>\n",
       "      <td>0.717394</td>\n",
       "    </tr>\n",
       "    <tr>\n",
       "      <td>min</td>\n",
       "      <td>3.440000e+02</td>\n",
       "      <td>1.000000</td>\n",
       "      <td>0.000000</td>\n",
       "      <td>20.000000</td>\n",
       "      <td>0.000000</td>\n",
       "      <td>0.000000</td>\n",
       "      <td>0.000000</td>\n",
       "    </tr>\n",
       "    <tr>\n",
       "      <td>25%</td>\n",
       "      <td>6.261964e+06</td>\n",
       "      <td>2.000000</td>\n",
       "      <td>1.000000</td>\n",
       "      <td>92.000000</td>\n",
       "      <td>1.000000</td>\n",
       "      <td>1.000000</td>\n",
       "      <td>4.317488</td>\n",
       "    </tr>\n",
       "    <tr>\n",
       "      <td>50%</td>\n",
       "      <td>1.225415e+07</td>\n",
       "      <td>2.000000</td>\n",
       "      <td>1.000000</td>\n",
       "      <td>96.000000</td>\n",
       "      <td>1.000000</td>\n",
       "      <td>1.000000</td>\n",
       "      <td>4.709530</td>\n",
       "    </tr>\n",
       "    <tr>\n",
       "      <td>75%</td>\n",
       "      <td>1.640226e+07</td>\n",
       "      <td>4.000000</td>\n",
       "      <td>1.000000</td>\n",
       "      <td>100.000000</td>\n",
       "      <td>1.000000</td>\n",
       "      <td>2.000000</td>\n",
       "      <td>5.220356</td>\n",
       "    </tr>\n",
       "    <tr>\n",
       "      <td>max</td>\n",
       "      <td>2.123090e+07</td>\n",
       "      <td>16.000000</td>\n",
       "      <td>8.000000</td>\n",
       "      <td>100.000000</td>\n",
       "      <td>10.000000</td>\n",
       "      <td>18.000000</td>\n",
       "      <td>7.600402</td>\n",
       "    </tr>\n",
       "  </tbody>\n",
       "</table>\n",
       "</div>"
      ],
      "text/plain": [
       "                 id  accommodates     bathrooms  review_scores_rating  \\\n",
       "count  7.411100e+04  74108.000000  73908.000000          57389.000000   \n",
       "mean   1.126662e+07      3.155125      1.235272             94.067365   \n",
       "std    6.081735e+06      2.153603      0.582054              7.836556   \n",
       "min    3.440000e+02      1.000000      0.000000             20.000000   \n",
       "25%    6.261964e+06      2.000000      1.000000             92.000000   \n",
       "50%    1.225415e+07      2.000000      1.000000             96.000000   \n",
       "75%    1.640226e+07      4.000000      1.000000            100.000000   \n",
       "max    2.123090e+07     16.000000      8.000000            100.000000   \n",
       "\n",
       "           bedrooms          beds     log_price  \n",
       "count  74019.000000  73980.000000  74111.000000  \n",
       "mean       1.265797      1.710868      4.782069  \n",
       "std        0.852149      1.254142      0.717394  \n",
       "min        0.000000      0.000000      0.000000  \n",
       "25%        1.000000      1.000000      4.317488  \n",
       "50%        1.000000      1.000000      4.709530  \n",
       "75%        1.000000      2.000000      5.220356  \n",
       "max       10.000000     18.000000      7.600402  "
      ]
     },
     "execution_count": 5,
     "metadata": {},
     "output_type": "execute_result"
    }
   ],
   "source": [
    "df.describe()"
   ]
  },
  {
   "cell_type": "code",
   "execution_count": 6,
   "metadata": {},
   "outputs": [
    {
     "data": {
      "text/plain": [
       "id                      74111\n",
       "room_type                   3\n",
       "accommodates               16\n",
       "bathrooms                  17\n",
       "cancellation_policy         3\n",
       "cleaning_fee                2\n",
       "instant_bookable            2\n",
       "review_scores_rating       54\n",
       "bedrooms                   11\n",
       "beds                       18\n",
       "log_price                 767\n",
       "dtype: int64"
      ]
     },
     "execution_count": 6,
     "metadata": {},
     "output_type": "execute_result"
    }
   ],
   "source": [
    "df.nunique()"
   ]
  },
  {
   "cell_type": "markdown",
   "metadata": {},
   "source": [
    "## Data Preprocessing"
   ]
  },
  {
   "cell_type": "markdown",
   "metadata": {},
   "source": [
    "### Removing unwanted cols"
   ]
  },
  {
   "cell_type": "code",
   "execution_count": 44,
   "metadata": {},
   "outputs": [],
   "source": [
    "df.drop(\"id\",axis = 1, inplace = True)"
   ]
  },
  {
   "cell_type": "code",
   "execution_count": 45,
   "metadata": {},
   "outputs": [
    {
     "data": {
      "text/html": [
       "<div>\n",
       "<style scoped>\n",
       "    .dataframe tbody tr th:only-of-type {\n",
       "        vertical-align: middle;\n",
       "    }\n",
       "\n",
       "    .dataframe tbody tr th {\n",
       "        vertical-align: top;\n",
       "    }\n",
       "\n",
       "    .dataframe thead th {\n",
       "        text-align: right;\n",
       "    }\n",
       "</style>\n",
       "<table border=\"1\" class=\"dataframe\">\n",
       "  <thead>\n",
       "    <tr style=\"text-align: right;\">\n",
       "      <th></th>\n",
       "      <th>room_type</th>\n",
       "      <th>accommodates</th>\n",
       "      <th>bathrooms</th>\n",
       "      <th>cancellation_policy</th>\n",
       "      <th>cleaning_fee</th>\n",
       "      <th>instant_bookable</th>\n",
       "      <th>review_scores_rating</th>\n",
       "      <th>bedrooms</th>\n",
       "      <th>beds</th>\n",
       "      <th>log_price</th>\n",
       "    </tr>\n",
       "  </thead>\n",
       "  <tbody>\n",
       "    <tr>\n",
       "      <td>0</td>\n",
       "      <td>Entire home/apt</td>\n",
       "      <td>3.0</td>\n",
       "      <td>1.0</td>\n",
       "      <td>strict</td>\n",
       "      <td>True</td>\n",
       "      <td>f</td>\n",
       "      <td>100.0</td>\n",
       "      <td>1.0</td>\n",
       "      <td>1.0</td>\n",
       "      <td>5.010635</td>\n",
       "    </tr>\n",
       "    <tr>\n",
       "      <td>1</td>\n",
       "      <td>Entire home/apt</td>\n",
       "      <td>7.0</td>\n",
       "      <td>1.0</td>\n",
       "      <td>strict</td>\n",
       "      <td>True</td>\n",
       "      <td>t</td>\n",
       "      <td>93.0</td>\n",
       "      <td>3.0</td>\n",
       "      <td>3.0</td>\n",
       "      <td>5.129899</td>\n",
       "    </tr>\n",
       "    <tr>\n",
       "      <td>2</td>\n",
       "      <td>Entire home/apt</td>\n",
       "      <td>5.0</td>\n",
       "      <td>1.0</td>\n",
       "      <td>moderate</td>\n",
       "      <td>True</td>\n",
       "      <td>t</td>\n",
       "      <td>92.0</td>\n",
       "      <td>1.0</td>\n",
       "      <td>3.0</td>\n",
       "      <td>4.976734</td>\n",
       "    </tr>\n",
       "    <tr>\n",
       "      <td>3</td>\n",
       "      <td>Entire home/apt</td>\n",
       "      <td>4.0</td>\n",
       "      <td>1.0</td>\n",
       "      <td>flexible</td>\n",
       "      <td>True</td>\n",
       "      <td>f</td>\n",
       "      <td>NaN</td>\n",
       "      <td>2.0</td>\n",
       "      <td>2.0</td>\n",
       "      <td>6.620073</td>\n",
       "    </tr>\n",
       "    <tr>\n",
       "      <td>4</td>\n",
       "      <td>Entire home/apt</td>\n",
       "      <td>2.0</td>\n",
       "      <td>1.0</td>\n",
       "      <td>moderate</td>\n",
       "      <td>True</td>\n",
       "      <td>t</td>\n",
       "      <td>40.0</td>\n",
       "      <td>0.0</td>\n",
       "      <td>1.0</td>\n",
       "      <td>4.744932</td>\n",
       "    </tr>\n",
       "  </tbody>\n",
       "</table>\n",
       "</div>"
      ],
      "text/plain": [
       "         room_type  accommodates  bathrooms cancellation_policy cleaning_fee  \\\n",
       "0  Entire home/apt           3.0        1.0              strict         True   \n",
       "1  Entire home/apt           7.0        1.0              strict         True   \n",
       "2  Entire home/apt           5.0        1.0            moderate         True   \n",
       "3  Entire home/apt           4.0        1.0            flexible         True   \n",
       "4  Entire home/apt           2.0        1.0            moderate         True   \n",
       "\n",
       "  instant_bookable  review_scores_rating  bedrooms  beds  log_price  \n",
       "0                f                 100.0       1.0   1.0   5.010635  \n",
       "1                t                  93.0       3.0   3.0   5.129899  \n",
       "2                t                  92.0       1.0   3.0   4.976734  \n",
       "3                f                   NaN       2.0   2.0   6.620073  \n",
       "4                t                  40.0       0.0   1.0   4.744932  "
      ]
     },
     "execution_count": 45,
     "metadata": {},
     "output_type": "execute_result"
    }
   ],
   "source": [
    "df.head()"
   ]
  },
  {
   "cell_type": "code",
   "execution_count": 46,
   "metadata": {},
   "outputs": [
    {
     "data": {
      "text/plain": [
       "True     54399\n",
       "False    19708\n",
       "Name: cleaning_fee, dtype: int64"
      ]
     },
     "execution_count": 46,
     "metadata": {},
     "output_type": "execute_result"
    }
   ],
   "source": [
    "df['cleaning_fee'].value_counts()"
   ]
  },
  {
   "cell_type": "markdown",
   "metadata": {},
   "source": [
    "### Check missing value in each col"
   ]
  },
  {
   "cell_type": "code",
   "execution_count": 48,
   "metadata": {},
   "outputs": [
    {
     "data": {
      "text/plain": [
       "room_type                0.006747\n",
       "accommodates             0.004048\n",
       "bathrooms                0.273913\n",
       "cancellation_policy      0.010795\n",
       "cleaning_fee             0.005397\n",
       "instant_bookable         0.000000\n",
       "review_scores_rating    22.563452\n",
       "bedrooms                 0.124138\n",
       "beds                     0.176762\n",
       "log_price                0.000000\n",
       "dtype: float64"
      ]
     },
     "execution_count": 48,
     "metadata": {},
     "output_type": "execute_result"
    }
   ],
   "source": [
    "df.isnull().sum()/len(df) * 100"
   ]
  },
  {
   "cell_type": "code",
   "execution_count": 10,
   "metadata": {
    "scrolled": false
   },
   "outputs": [
    {
     "name": "stdout",
     "output_type": "stream",
     "text": [
      "room_type have 5 or 0.00675 % NAN value\n",
      "No. of empty cell in room_type is: 0\n",
      "\n",
      "accommodates have 3 or 0.00405 % NAN value\n",
      "No. of empty cell in accommodates is: 0\n",
      "\n",
      "bathrooms have 203 or 0.27391 % NAN value\n",
      "No. of empty cell in bathrooms is: 0\n",
      "\n",
      "cancellation_policy have 8 or 0.01079 % NAN value\n",
      "No. of empty cell in cancellation_policy is: 0\n",
      "\n",
      "cleaning_fee have 4 or 0.0054 % NAN value\n",
      "No. of empty cell in cleaning_fee is: 0\n",
      "\n",
      "instant_bookable have 0 or 0.0 % NAN value\n",
      "No. of empty cell in instant_bookable is: 0\n",
      "\n",
      "review_scores_rating have 16722 or 22.56345 % NAN value\n",
      "No. of empty cell in review_scores_rating is: 0\n",
      "\n",
      "bedrooms have 92 or 0.12414 % NAN value\n",
      "No. of empty cell in bedrooms is: 0\n",
      "\n",
      "beds have 131 or 0.17676 % NAN value\n",
      "No. of empty cell in beds is: 0\n",
      "\n",
      "log_price have 0 or 0.0 % NAN value\n",
      "No. of empty cell in log_price is: 0\n",
      "\n"
     ]
    }
   ],
   "source": [
    "for i in df.columns:\n",
    "  \n",
    "    print(f\"{i} have {df[i].isnull().sum()} or {round((df[i].isnull().sum()/74111)*100,5)} % NAN value\") # it check for nan value\n",
    "    \n",
    "    print(f\"No. of empty cell in {i} is:\",(df[i]== '').sum()) # it check for empty strings\n",
    "    print()\n"
   ]
  },
  {
   "cell_type": "code",
   "execution_count": 11,
   "metadata": {},
   "outputs": [
    {
     "data": {
      "text/plain": [
       "dtype('float64')"
      ]
     },
     "execution_count": 11,
     "metadata": {},
     "output_type": "execute_result"
    }
   ],
   "source": [
    "df['accommodates'].dtype"
   ]
  },
  {
   "cell_type": "code",
   "execution_count": 12,
   "metadata": {},
   "outputs": [
    {
     "data": {
      "text/plain": [
       "dtype('O')"
      ]
     },
     "execution_count": 12,
     "metadata": {},
     "output_type": "execute_result"
    }
   ],
   "source": [
    "df['cleaning_fee'].dtype"
   ]
  },
  {
   "cell_type": "code",
   "execution_count": 13,
   "metadata": {},
   "outputs": [
    {
     "data": {
      "text/plain": [
       "2.0"
      ]
     },
     "execution_count": 13,
     "metadata": {},
     "output_type": "execute_result"
    }
   ],
   "source": [
    "df['accommodates'].median()"
   ]
  },
  {
   "cell_type": "code",
   "execution_count": 14,
   "metadata": {},
   "outputs": [
    {
     "data": {
      "text/plain": [
       "dtype('O')"
      ]
     },
     "execution_count": 14,
     "metadata": {},
     "output_type": "execute_result"
    }
   ],
   "source": [
    "df['cancellation_policy'].dtype\n"
   ]
  },
  {
   "cell_type": "code",
   "execution_count": 15,
   "metadata": {},
   "outputs": [
    {
     "data": {
      "text/plain": [
       "strict      32500\n",
       "flexible    22543\n",
       "moderate    19060\n",
       "Name: cancellation_policy, dtype: int64"
      ]
     },
     "execution_count": 15,
     "metadata": {},
     "output_type": "execute_result"
    }
   ],
   "source": [
    "df['cancellation_policy'].value_counts()"
   ]
  },
  {
   "cell_type": "code",
   "execution_count": 16,
   "metadata": {},
   "outputs": [
    {
     "data": {
      "text/plain": [
       "'strict'"
      ]
     },
     "execution_count": 16,
     "metadata": {},
     "output_type": "execute_result"
    }
   ],
   "source": [
    "df['cancellation_policy'].value_counts().index[0] # mode"
   ]
  },
  {
   "cell_type": "markdown",
   "metadata": {},
   "source": [
    "### Missing Value Treatment"
   ]
  },
  {
   "cell_type": "code",
   "execution_count": 17,
   "metadata": {},
   "outputs": [],
   "source": [
    "# for numeric value :median \n",
    "# for catg value : mode\n",
    "\n",
    "for i in df.columns:\n",
    "    if df[i].dtype == 'O' or df[i].dtype == 'bool':\n",
    "        df[i].fillna(df[i].value_counts().index[0],inplace=True)\n",
    "    else:\n",
    "        df[i].fillna(df[i].median(),inplace = True)"
   ]
  },
  {
   "cell_type": "code",
   "execution_count": 18,
   "metadata": {},
   "outputs": [
    {
     "name": "stdout",
     "output_type": "stream",
     "text": [
      "room_type have 0 or 0.0 % NAN value\n",
      "No. of empty cell in room_type is: 0\n",
      "\n",
      "accommodates have 0 or 0.0 % NAN value\n",
      "No. of empty cell in accommodates is: 0\n",
      "\n",
      "bathrooms have 0 or 0.0 % NAN value\n",
      "No. of empty cell in bathrooms is: 0\n",
      "\n",
      "cancellation_policy have 0 or 0.0 % NAN value\n",
      "No. of empty cell in cancellation_policy is: 0\n",
      "\n",
      "cleaning_fee have 0 or 0.0 % NAN value\n",
      "No. of empty cell in cleaning_fee is: 0\n",
      "\n",
      "instant_bookable have 0 or 0.0 % NAN value\n",
      "No. of empty cell in instant_bookable is: 0\n",
      "\n",
      "review_scores_rating have 0 or 0.0 % NAN value\n",
      "No. of empty cell in review_scores_rating is: 0\n",
      "\n",
      "bedrooms have 0 or 0.0 % NAN value\n",
      "No. of empty cell in bedrooms is: 0\n",
      "\n",
      "beds have 0 or 0.0 % NAN value\n",
      "No. of empty cell in beds is: 0\n",
      "\n",
      "log_price have 0 or 0.0 % NAN value\n",
      "No. of empty cell in log_price is: 0\n",
      "\n"
     ]
    }
   ],
   "source": [
    "# Confirming missing value treatment for each col\n",
    "for i in df.columns:\n",
    "    \n",
    "    print(f\"{i} have {df[i].isnull().sum()} or {round((df[i].isnull().sum()/74111)*100,5)} % NAN value\") # it check for nan value\n",
    "    \n",
    "    print(f\"No. of empty cell in {i} is:\",(df[i]== '').sum()) # it check for empty strings\n",
    "    print()\n"
   ]
  },
  {
   "cell_type": "code",
   "execution_count": 19,
   "metadata": {},
   "outputs": [],
   "source": [
    "# checking for Duplicate Records"
   ]
  },
  {
   "cell_type": "code",
   "execution_count": 20,
   "metadata": {},
   "outputs": [
    {
     "data": {
      "text/plain": [
       "21144"
      ]
     },
     "execution_count": 20,
     "metadata": {},
     "output_type": "execute_result"
    }
   ],
   "source": [
    "df.duplicated().sum()"
   ]
  },
  {
   "cell_type": "code",
   "execution_count": 21,
   "metadata": {},
   "outputs": [],
   "source": [
    "df.drop_duplicates(inplace = True)"
   ]
  },
  {
   "cell_type": "code",
   "execution_count": 22,
   "metadata": {},
   "outputs": [],
   "source": [
    "# always reset index \n",
    "# bczz when we remove the dupilcated rows our index value also get removed and it creates gaps bw indices\n",
    "\n",
    "df.reset_index(drop=True, inplace=True) # drop is true : to drop the current index and replace with new"
   ]
  },
  {
   "cell_type": "code",
   "execution_count": 23,
   "metadata": {},
   "outputs": [
    {
     "name": "stdout",
     "output_type": "stream",
     "text": [
      "<class 'pandas.core.frame.DataFrame'>\n",
      "RangeIndex: 52967 entries, 0 to 52966\n",
      "Data columns (total 10 columns):\n",
      "room_type               52967 non-null object\n",
      "accommodates            52967 non-null float64\n",
      "bathrooms               52967 non-null float64\n",
      "cancellation_policy     52967 non-null object\n",
      "cleaning_fee            52967 non-null bool\n",
      "instant_bookable        52967 non-null object\n",
      "review_scores_rating    52967 non-null float64\n",
      "bedrooms                52967 non-null float64\n",
      "beds                    52967 non-null float64\n",
      "log_price               52967 non-null float64\n",
      "dtypes: bool(1), float64(6), object(3)\n",
      "memory usage: 3.7+ MB\n"
     ]
    }
   ],
   "source": [
    "df.info()"
   ]
  },
  {
   "cell_type": "markdown",
   "metadata": {},
   "source": [
    "### Encoding"
   ]
  },
  {
   "cell_type": "code",
   "execution_count": 24,
   "metadata": {},
   "outputs": [
    {
     "data": {
      "text/plain": [
       "3"
      ]
     },
     "execution_count": 24,
     "metadata": {},
     "output_type": "execute_result"
    }
   ],
   "source": [
    "df['room_type'].nunique() "
   ]
  },
  {
   "cell_type": "code",
   "execution_count": 25,
   "metadata": {},
   "outputs": [],
   "source": [
    "from sklearn.preprocessing import LabelEncoder\n",
    "col=[]\n",
    "for i in df.columns:\n",
    "    if df[i].dtype == 'O' or df[i].dtype == 'bool':\n",
    "        if df[i].nunique() <3: # for bool\n",
    "            label = LabelEncoder()\n",
    "            df[i] = label.fit_transform(df[i])\n",
    "        if df[i].nunique() > 2: # for multiple value\n",
    "            col.append(i)\n",
    "df = pd.get_dummies(df, columns= col)\n",
    "            \n",
    "            "
   ]
  },
  {
   "cell_type": "code",
   "execution_count": 26,
   "metadata": {},
   "outputs": [
    {
     "data": {
      "text/html": [
       "<div>\n",
       "<style scoped>\n",
       "    .dataframe tbody tr th:only-of-type {\n",
       "        vertical-align: middle;\n",
       "    }\n",
       "\n",
       "    .dataframe tbody tr th {\n",
       "        vertical-align: top;\n",
       "    }\n",
       "\n",
       "    .dataframe thead th {\n",
       "        text-align: right;\n",
       "    }\n",
       "</style>\n",
       "<table border=\"1\" class=\"dataframe\">\n",
       "  <thead>\n",
       "    <tr style=\"text-align: right;\">\n",
       "      <th></th>\n",
       "      <th>accommodates</th>\n",
       "      <th>bathrooms</th>\n",
       "      <th>cleaning_fee</th>\n",
       "      <th>instant_bookable</th>\n",
       "      <th>review_scores_rating</th>\n",
       "      <th>bedrooms</th>\n",
       "      <th>beds</th>\n",
       "      <th>log_price</th>\n",
       "      <th>room_type_Entire home/apt</th>\n",
       "      <th>room_type_Private room</th>\n",
       "      <th>room_type_Shared room</th>\n",
       "      <th>cancellation_policy_flexible</th>\n",
       "      <th>cancellation_policy_moderate</th>\n",
       "      <th>cancellation_policy_strict</th>\n",
       "    </tr>\n",
       "  </thead>\n",
       "  <tbody>\n",
       "    <tr>\n",
       "      <td>0</td>\n",
       "      <td>3.0</td>\n",
       "      <td>1.0</td>\n",
       "      <td>1</td>\n",
       "      <td>0</td>\n",
       "      <td>100.0</td>\n",
       "      <td>1.0</td>\n",
       "      <td>1.0</td>\n",
       "      <td>5.010635</td>\n",
       "      <td>1</td>\n",
       "      <td>0</td>\n",
       "      <td>0</td>\n",
       "      <td>0</td>\n",
       "      <td>0</td>\n",
       "      <td>1</td>\n",
       "    </tr>\n",
       "    <tr>\n",
       "      <td>1</td>\n",
       "      <td>7.0</td>\n",
       "      <td>1.0</td>\n",
       "      <td>1</td>\n",
       "      <td>1</td>\n",
       "      <td>93.0</td>\n",
       "      <td>3.0</td>\n",
       "      <td>3.0</td>\n",
       "      <td>5.129899</td>\n",
       "      <td>1</td>\n",
       "      <td>0</td>\n",
       "      <td>0</td>\n",
       "      <td>0</td>\n",
       "      <td>0</td>\n",
       "      <td>1</td>\n",
       "    </tr>\n",
       "    <tr>\n",
       "      <td>2</td>\n",
       "      <td>5.0</td>\n",
       "      <td>1.0</td>\n",
       "      <td>1</td>\n",
       "      <td>1</td>\n",
       "      <td>92.0</td>\n",
       "      <td>1.0</td>\n",
       "      <td>3.0</td>\n",
       "      <td>4.976734</td>\n",
       "      <td>1</td>\n",
       "      <td>0</td>\n",
       "      <td>0</td>\n",
       "      <td>0</td>\n",
       "      <td>1</td>\n",
       "      <td>0</td>\n",
       "    </tr>\n",
       "    <tr>\n",
       "      <td>3</td>\n",
       "      <td>4.0</td>\n",
       "      <td>1.0</td>\n",
       "      <td>1</td>\n",
       "      <td>0</td>\n",
       "      <td>96.0</td>\n",
       "      <td>2.0</td>\n",
       "      <td>2.0</td>\n",
       "      <td>6.620073</td>\n",
       "      <td>1</td>\n",
       "      <td>0</td>\n",
       "      <td>0</td>\n",
       "      <td>1</td>\n",
       "      <td>0</td>\n",
       "      <td>0</td>\n",
       "    </tr>\n",
       "    <tr>\n",
       "      <td>4</td>\n",
       "      <td>2.0</td>\n",
       "      <td>1.0</td>\n",
       "      <td>1</td>\n",
       "      <td>1</td>\n",
       "      <td>40.0</td>\n",
       "      <td>0.0</td>\n",
       "      <td>1.0</td>\n",
       "      <td>4.744932</td>\n",
       "      <td>1</td>\n",
       "      <td>0</td>\n",
       "      <td>0</td>\n",
       "      <td>0</td>\n",
       "      <td>1</td>\n",
       "      <td>0</td>\n",
       "    </tr>\n",
       "    <tr>\n",
       "      <td>...</td>\n",
       "      <td>...</td>\n",
       "      <td>...</td>\n",
       "      <td>...</td>\n",
       "      <td>...</td>\n",
       "      <td>...</td>\n",
       "      <td>...</td>\n",
       "      <td>...</td>\n",
       "      <td>...</td>\n",
       "      <td>...</td>\n",
       "      <td>...</td>\n",
       "      <td>...</td>\n",
       "      <td>...</td>\n",
       "      <td>...</td>\n",
       "      <td>...</td>\n",
       "    </tr>\n",
       "    <tr>\n",
       "      <td>52962</td>\n",
       "      <td>2.0</td>\n",
       "      <td>1.0</td>\n",
       "      <td>1</td>\n",
       "      <td>0</td>\n",
       "      <td>100.0</td>\n",
       "      <td>1.0</td>\n",
       "      <td>1.0</td>\n",
       "      <td>4.356709</td>\n",
       "      <td>1</td>\n",
       "      <td>0</td>\n",
       "      <td>0</td>\n",
       "      <td>0</td>\n",
       "      <td>0</td>\n",
       "      <td>1</td>\n",
       "    </tr>\n",
       "    <tr>\n",
       "      <td>52963</td>\n",
       "      <td>4.0</td>\n",
       "      <td>2.0</td>\n",
       "      <td>1</td>\n",
       "      <td>0</td>\n",
       "      <td>93.0</td>\n",
       "      <td>2.0</td>\n",
       "      <td>4.0</td>\n",
       "      <td>5.043425</td>\n",
       "      <td>1</td>\n",
       "      <td>0</td>\n",
       "      <td>0</td>\n",
       "      <td>0</td>\n",
       "      <td>1</td>\n",
       "      <td>0</td>\n",
       "    </tr>\n",
       "    <tr>\n",
       "      <td>52964</td>\n",
       "      <td>5.0</td>\n",
       "      <td>1.0</td>\n",
       "      <td>1</td>\n",
       "      <td>1</td>\n",
       "      <td>94.0</td>\n",
       "      <td>2.0</td>\n",
       "      <td>2.0</td>\n",
       "      <td>5.220356</td>\n",
       "      <td>1</td>\n",
       "      <td>0</td>\n",
       "      <td>0</td>\n",
       "      <td>0</td>\n",
       "      <td>1</td>\n",
       "      <td>0</td>\n",
       "    </tr>\n",
       "    <tr>\n",
       "      <td>52965</td>\n",
       "      <td>2.0</td>\n",
       "      <td>1.0</td>\n",
       "      <td>1</td>\n",
       "      <td>1</td>\n",
       "      <td>96.0</td>\n",
       "      <td>0.0</td>\n",
       "      <td>2.0</td>\n",
       "      <td>5.273000</td>\n",
       "      <td>1</td>\n",
       "      <td>0</td>\n",
       "      <td>0</td>\n",
       "      <td>0</td>\n",
       "      <td>0</td>\n",
       "      <td>1</td>\n",
       "    </tr>\n",
       "    <tr>\n",
       "      <td>52966</td>\n",
       "      <td>4.0</td>\n",
       "      <td>1.0</td>\n",
       "      <td>0</td>\n",
       "      <td>0</td>\n",
       "      <td>96.0</td>\n",
       "      <td>1.0</td>\n",
       "      <td>2.0</td>\n",
       "      <td>4.852030</td>\n",
       "      <td>1</td>\n",
       "      <td>0</td>\n",
       "      <td>0</td>\n",
       "      <td>0</td>\n",
       "      <td>1</td>\n",
       "      <td>0</td>\n",
       "    </tr>\n",
       "  </tbody>\n",
       "</table>\n",
       "<p>52967 rows × 14 columns</p>\n",
       "</div>"
      ],
      "text/plain": [
       "       accommodates  bathrooms  cleaning_fee  instant_bookable  \\\n",
       "0               3.0        1.0             1                 0   \n",
       "1               7.0        1.0             1                 1   \n",
       "2               5.0        1.0             1                 1   \n",
       "3               4.0        1.0             1                 0   \n",
       "4               2.0        1.0             1                 1   \n",
       "...             ...        ...           ...               ...   \n",
       "52962           2.0        1.0             1                 0   \n",
       "52963           4.0        2.0             1                 0   \n",
       "52964           5.0        1.0             1                 1   \n",
       "52965           2.0        1.0             1                 1   \n",
       "52966           4.0        1.0             0                 0   \n",
       "\n",
       "       review_scores_rating  bedrooms  beds  log_price  \\\n",
       "0                     100.0       1.0   1.0   5.010635   \n",
       "1                      93.0       3.0   3.0   5.129899   \n",
       "2                      92.0       1.0   3.0   4.976734   \n",
       "3                      96.0       2.0   2.0   6.620073   \n",
       "4                      40.0       0.0   1.0   4.744932   \n",
       "...                     ...       ...   ...        ...   \n",
       "52962                 100.0       1.0   1.0   4.356709   \n",
       "52963                  93.0       2.0   4.0   5.043425   \n",
       "52964                  94.0       2.0   2.0   5.220356   \n",
       "52965                  96.0       0.0   2.0   5.273000   \n",
       "52966                  96.0       1.0   2.0   4.852030   \n",
       "\n",
       "       room_type_Entire home/apt  room_type_Private room  \\\n",
       "0                              1                       0   \n",
       "1                              1                       0   \n",
       "2                              1                       0   \n",
       "3                              1                       0   \n",
       "4                              1                       0   \n",
       "...                          ...                     ...   \n",
       "52962                          1                       0   \n",
       "52963                          1                       0   \n",
       "52964                          1                       0   \n",
       "52965                          1                       0   \n",
       "52966                          1                       0   \n",
       "\n",
       "       room_type_Shared room  cancellation_policy_flexible  \\\n",
       "0                          0                             0   \n",
       "1                          0                             0   \n",
       "2                          0                             0   \n",
       "3                          0                             1   \n",
       "4                          0                             0   \n",
       "...                      ...                           ...   \n",
       "52962                      0                             0   \n",
       "52963                      0                             0   \n",
       "52964                      0                             0   \n",
       "52965                      0                             0   \n",
       "52966                      0                             0   \n",
       "\n",
       "       cancellation_policy_moderate  cancellation_policy_strict  \n",
       "0                                 0                           1  \n",
       "1                                 0                           1  \n",
       "2                                 1                           0  \n",
       "3                                 0                           0  \n",
       "4                                 1                           0  \n",
       "...                             ...                         ...  \n",
       "52962                             0                           1  \n",
       "52963                             1                           0  \n",
       "52964                             1                           0  \n",
       "52965                             0                           1  \n",
       "52966                             1                           0  \n",
       "\n",
       "[52967 rows x 14 columns]"
      ]
     },
     "execution_count": 26,
     "metadata": {},
     "output_type": "execute_result"
    }
   ],
   "source": [
    "df"
   ]
  },
  {
   "cell_type": "code",
   "execution_count": 27,
   "metadata": {},
   "outputs": [],
   "source": [
    "df.drop(['room_type_Shared room','cancellation_policy_strict'], axis = 1, inplace = True) # to avoid multicolinearity\n",
    "# due to one hot encoding"
   ]
  },
  {
   "cell_type": "code",
   "execution_count": 28,
   "metadata": {},
   "outputs": [
    {
     "data": {
      "text/html": [
       "<div>\n",
       "<style scoped>\n",
       "    .dataframe tbody tr th:only-of-type {\n",
       "        vertical-align: middle;\n",
       "    }\n",
       "\n",
       "    .dataframe tbody tr th {\n",
       "        vertical-align: top;\n",
       "    }\n",
       "\n",
       "    .dataframe thead th {\n",
       "        text-align: right;\n",
       "    }\n",
       "</style>\n",
       "<table border=\"1\" class=\"dataframe\">\n",
       "  <thead>\n",
       "    <tr style=\"text-align: right;\">\n",
       "      <th></th>\n",
       "      <th>accommodates</th>\n",
       "      <th>bathrooms</th>\n",
       "      <th>cleaning_fee</th>\n",
       "      <th>instant_bookable</th>\n",
       "      <th>review_scores_rating</th>\n",
       "      <th>bedrooms</th>\n",
       "      <th>beds</th>\n",
       "      <th>log_price</th>\n",
       "      <th>room_type_Entire home/apt</th>\n",
       "      <th>room_type_Private room</th>\n",
       "      <th>cancellation_policy_flexible</th>\n",
       "      <th>cancellation_policy_moderate</th>\n",
       "    </tr>\n",
       "  </thead>\n",
       "  <tbody>\n",
       "    <tr>\n",
       "      <td>0</td>\n",
       "      <td>3.0</td>\n",
       "      <td>1.0</td>\n",
       "      <td>1</td>\n",
       "      <td>0</td>\n",
       "      <td>100.0</td>\n",
       "      <td>1.0</td>\n",
       "      <td>1.0</td>\n",
       "      <td>5.010635</td>\n",
       "      <td>1</td>\n",
       "      <td>0</td>\n",
       "      <td>0</td>\n",
       "      <td>0</td>\n",
       "    </tr>\n",
       "    <tr>\n",
       "      <td>1</td>\n",
       "      <td>7.0</td>\n",
       "      <td>1.0</td>\n",
       "      <td>1</td>\n",
       "      <td>1</td>\n",
       "      <td>93.0</td>\n",
       "      <td>3.0</td>\n",
       "      <td>3.0</td>\n",
       "      <td>5.129899</td>\n",
       "      <td>1</td>\n",
       "      <td>0</td>\n",
       "      <td>0</td>\n",
       "      <td>0</td>\n",
       "    </tr>\n",
       "    <tr>\n",
       "      <td>2</td>\n",
       "      <td>5.0</td>\n",
       "      <td>1.0</td>\n",
       "      <td>1</td>\n",
       "      <td>1</td>\n",
       "      <td>92.0</td>\n",
       "      <td>1.0</td>\n",
       "      <td>3.0</td>\n",
       "      <td>4.976734</td>\n",
       "      <td>1</td>\n",
       "      <td>0</td>\n",
       "      <td>0</td>\n",
       "      <td>1</td>\n",
       "    </tr>\n",
       "    <tr>\n",
       "      <td>3</td>\n",
       "      <td>4.0</td>\n",
       "      <td>1.0</td>\n",
       "      <td>1</td>\n",
       "      <td>0</td>\n",
       "      <td>96.0</td>\n",
       "      <td>2.0</td>\n",
       "      <td>2.0</td>\n",
       "      <td>6.620073</td>\n",
       "      <td>1</td>\n",
       "      <td>0</td>\n",
       "      <td>1</td>\n",
       "      <td>0</td>\n",
       "    </tr>\n",
       "    <tr>\n",
       "      <td>4</td>\n",
       "      <td>2.0</td>\n",
       "      <td>1.0</td>\n",
       "      <td>1</td>\n",
       "      <td>1</td>\n",
       "      <td>40.0</td>\n",
       "      <td>0.0</td>\n",
       "      <td>1.0</td>\n",
       "      <td>4.744932</td>\n",
       "      <td>1</td>\n",
       "      <td>0</td>\n",
       "      <td>0</td>\n",
       "      <td>1</td>\n",
       "    </tr>\n",
       "    <tr>\n",
       "      <td>...</td>\n",
       "      <td>...</td>\n",
       "      <td>...</td>\n",
       "      <td>...</td>\n",
       "      <td>...</td>\n",
       "      <td>...</td>\n",
       "      <td>...</td>\n",
       "      <td>...</td>\n",
       "      <td>...</td>\n",
       "      <td>...</td>\n",
       "      <td>...</td>\n",
       "      <td>...</td>\n",
       "      <td>...</td>\n",
       "    </tr>\n",
       "    <tr>\n",
       "      <td>52962</td>\n",
       "      <td>2.0</td>\n",
       "      <td>1.0</td>\n",
       "      <td>1</td>\n",
       "      <td>0</td>\n",
       "      <td>100.0</td>\n",
       "      <td>1.0</td>\n",
       "      <td>1.0</td>\n",
       "      <td>4.356709</td>\n",
       "      <td>1</td>\n",
       "      <td>0</td>\n",
       "      <td>0</td>\n",
       "      <td>0</td>\n",
       "    </tr>\n",
       "    <tr>\n",
       "      <td>52963</td>\n",
       "      <td>4.0</td>\n",
       "      <td>2.0</td>\n",
       "      <td>1</td>\n",
       "      <td>0</td>\n",
       "      <td>93.0</td>\n",
       "      <td>2.0</td>\n",
       "      <td>4.0</td>\n",
       "      <td>5.043425</td>\n",
       "      <td>1</td>\n",
       "      <td>0</td>\n",
       "      <td>0</td>\n",
       "      <td>1</td>\n",
       "    </tr>\n",
       "    <tr>\n",
       "      <td>52964</td>\n",
       "      <td>5.0</td>\n",
       "      <td>1.0</td>\n",
       "      <td>1</td>\n",
       "      <td>1</td>\n",
       "      <td>94.0</td>\n",
       "      <td>2.0</td>\n",
       "      <td>2.0</td>\n",
       "      <td>5.220356</td>\n",
       "      <td>1</td>\n",
       "      <td>0</td>\n",
       "      <td>0</td>\n",
       "      <td>1</td>\n",
       "    </tr>\n",
       "    <tr>\n",
       "      <td>52965</td>\n",
       "      <td>2.0</td>\n",
       "      <td>1.0</td>\n",
       "      <td>1</td>\n",
       "      <td>1</td>\n",
       "      <td>96.0</td>\n",
       "      <td>0.0</td>\n",
       "      <td>2.0</td>\n",
       "      <td>5.273000</td>\n",
       "      <td>1</td>\n",
       "      <td>0</td>\n",
       "      <td>0</td>\n",
       "      <td>0</td>\n",
       "    </tr>\n",
       "    <tr>\n",
       "      <td>52966</td>\n",
       "      <td>4.0</td>\n",
       "      <td>1.0</td>\n",
       "      <td>0</td>\n",
       "      <td>0</td>\n",
       "      <td>96.0</td>\n",
       "      <td>1.0</td>\n",
       "      <td>2.0</td>\n",
       "      <td>4.852030</td>\n",
       "      <td>1</td>\n",
       "      <td>0</td>\n",
       "      <td>0</td>\n",
       "      <td>1</td>\n",
       "    </tr>\n",
       "  </tbody>\n",
       "</table>\n",
       "<p>52967 rows × 12 columns</p>\n",
       "</div>"
      ],
      "text/plain": [
       "       accommodates  bathrooms  cleaning_fee  instant_bookable  \\\n",
       "0               3.0        1.0             1                 0   \n",
       "1               7.0        1.0             1                 1   \n",
       "2               5.0        1.0             1                 1   \n",
       "3               4.0        1.0             1                 0   \n",
       "4               2.0        1.0             1                 1   \n",
       "...             ...        ...           ...               ...   \n",
       "52962           2.0        1.0             1                 0   \n",
       "52963           4.0        2.0             1                 0   \n",
       "52964           5.0        1.0             1                 1   \n",
       "52965           2.0        1.0             1                 1   \n",
       "52966           4.0        1.0             0                 0   \n",
       "\n",
       "       review_scores_rating  bedrooms  beds  log_price  \\\n",
       "0                     100.0       1.0   1.0   5.010635   \n",
       "1                      93.0       3.0   3.0   5.129899   \n",
       "2                      92.0       1.0   3.0   4.976734   \n",
       "3                      96.0       2.0   2.0   6.620073   \n",
       "4                      40.0       0.0   1.0   4.744932   \n",
       "...                     ...       ...   ...        ...   \n",
       "52962                 100.0       1.0   1.0   4.356709   \n",
       "52963                  93.0       2.0   4.0   5.043425   \n",
       "52964                  94.0       2.0   2.0   5.220356   \n",
       "52965                  96.0       0.0   2.0   5.273000   \n",
       "52966                  96.0       1.0   2.0   4.852030   \n",
       "\n",
       "       room_type_Entire home/apt  room_type_Private room  \\\n",
       "0                              1                       0   \n",
       "1                              1                       0   \n",
       "2                              1                       0   \n",
       "3                              1                       0   \n",
       "4                              1                       0   \n",
       "...                          ...                     ...   \n",
       "52962                          1                       0   \n",
       "52963                          1                       0   \n",
       "52964                          1                       0   \n",
       "52965                          1                       0   \n",
       "52966                          1                       0   \n",
       "\n",
       "       cancellation_policy_flexible  cancellation_policy_moderate  \n",
       "0                                 0                             0  \n",
       "1                                 0                             0  \n",
       "2                                 0                             1  \n",
       "3                                 1                             0  \n",
       "4                                 0                             1  \n",
       "...                             ...                           ...  \n",
       "52962                             0                             0  \n",
       "52963                             0                             1  \n",
       "52964                             0                             1  \n",
       "52965                             0                             0  \n",
       "52966                             0                             1  \n",
       "\n",
       "[52967 rows x 12 columns]"
      ]
     },
     "execution_count": 28,
     "metadata": {},
     "output_type": "execute_result"
    }
   ],
   "source": [
    "df"
   ]
  },
  {
   "cell_type": "markdown",
   "metadata": {},
   "source": [
    "### splitting dependent and independent variable"
   ]
  },
  {
   "cell_type": "code",
   "execution_count": 29,
   "metadata": {},
   "outputs": [],
   "source": [
    "\n",
    "new_df = df.copy() \n",
    "y = new_df.pop('log_price')\n",
    "x = new_df\n"
   ]
  },
  {
   "cell_type": "markdown",
   "metadata": {},
   "source": [
    "### Outlier Detection"
   ]
  },
  {
   "cell_type": "code",
   "execution_count": 30,
   "metadata": {},
   "outputs": [
    {
     "data": {
      "image/png": "[encoded data removed]",
      "text/plain": [
       "<Figure size 432x288 with 1 Axes>"
      ]
     },
     "metadata": {
      "needs_background": "light"
     },
     "output_type": "display_data"
    },
    {
     "data": {
      "image/png": "[encoded data removed]",
      "text/plain": [
       "<Figure size 432x288 with 1 Axes>"
      ]
     },
     "metadata": {
      "needs_background": "light"
     },
     "output_type": "display_data"
    },
    {
     "data": {
      "image/png": "[encoded data removed]",
      "text/plain": [
       "<Figure size 432x288 with 1 Axes>"
      ]
     },
     "metadata": {
      "needs_background": "light"
     },
     "output_type": "display_data"
    },
    {
     "data": {
      "image/png": "[encoded data removed]",
      "text/plain": [
       "<Figure size 432x288 with 1 Axes>"
      ]
     },
     "metadata": {
      "needs_background": "light"
     },
     "output_type": "display_data"
    },
    {
     "data": {
      "image/png": "[encoded data removed]",
      "text/plain": [
       "<Figure size 432x288 with 1 Axes>"
      ]
     },
     "metadata": {
      "needs_background": "light"
     },
     "output_type": "display_data"
    }
   ],
   "source": [
    "for i in x:\n",
    "    if x[i].dtype =='float64':\n",
    "        sns.distplot(x[i])\n",
    "        plt.show()"
   ]
  },
  {
   "cell_type": "code",
   "execution_count": 31,
   "metadata": {},
   "outputs": [
    {
     "data": {
      "image/png": "[encoded data removed]",
      "text/plain": [
       "<Figure size 432x288 with 1 Axes>"
      ]
     },
     "metadata": {
      "needs_background": "light"
     },
     "output_type": "display_data"
    },
    {
     "data": {
      "image/png": "[encoded data removed]",
      "text/plain": [
       "<Figure size 432x288 with 1 Axes>"
      ]
     },
     "metadata": {
      "needs_background": "light"
     },
     "output_type": "display_data"
    },
    {
     "data": {
      "image/png": "[encoded data removed]",
      "text/plain": [
       "<Figure size 432x288 with 1 Axes>"
      ]
     },
     "metadata": {
      "needs_background": "light"
     },
     "output_type": "display_data"
    },
    {
     "data": {
      "image/png": "[encoded data removed]",
      "text/plain": [
       "<Figure size 432x288 with 1 Axes>"
      ]
     },
     "metadata": {
      "needs_background": "light"
     },
     "output_type": "display_data"
    },
    {
     "data": {
      "image/png": "[encoded data removed]",
      "text/plain": [
       "<Figure size 432x288 with 1 Axes>"
      ]
     },
     "metadata": {
      "needs_background": "light"
     },
     "output_type": "display_data"
    }
   ],
   "source": [
    "for i in x:\n",
    "    if x[i].dtype =='float64':\n",
    "        sns.boxplot(x[i])\n",
    "        plt.show()"
   ]
  },
  {
   "cell_type": "markdown",
   "metadata": {},
   "source": [
    "### Outlier Treatment"
   ]
  },
  {
   "cell_type": "code",
   "execution_count": 32,
   "metadata": {},
   "outputs": [],
   "source": [
    "# since all are scekwed distribution we will go with iqr method and capping approch"
   ]
  },
  {
   "cell_type": "code",
   "execution_count": 33,
   "metadata": {},
   "outputs": [],
   "source": [
    "for i in x:\n",
    "    if x[i].dtype =='float64':\n",
    "        iqr = x[i].quantile(0.75)- x[i].quantile(0.25)\n",
    "        LL = x[i].quantile(0.25) - 1.5*iqr\n",
    "        UL = x[i].quantile(0.75)+1.5 *iqr\n",
    "        \n",
    "        # capping\n",
    "        x[i] = np.where(x[i] > UL,UL, np.where(x[i] <LL,LL,x[i] )) "
   ]
  },
  {
   "cell_type": "code",
   "execution_count": 34,
   "metadata": {},
   "outputs": [
    {
     "data": {
      "image/png": "[encoded data removed]",
      "text/plain": [
       "<Figure size 432x288 with 1 Axes>"
      ]
     },
     "metadata": {
      "needs_background": "light"
     },
     "output_type": "display_data"
    },
    {
     "data": {
      "image/png": "[encoded data removed]",
      "text/plain": [
       "<Figure size 432x288 with 1 Axes>"
      ]
     },
     "metadata": {
      "needs_background": "light"
     },
     "output_type": "display_data"
    },
    {
     "data": {
      "image/png": "[encoded data removed]",
      "text/plain": [
       "<Figure size 432x288 with 1 Axes>"
      ]
     },
     "metadata": {
      "needs_background": "light"
     },
     "output_type": "display_data"
    },
    {
     "data": {
      "image/png": "[encoded data removed]",
      "text/plain": [
       "<Figure size 432x288 with 1 Axes>"
      ]
     },
     "metadata": {
      "needs_background": "light"
     },
     "output_type": "display_data"
    },
    {
     "data": {
      "image/png": "[encoded data removed]",
      "text/plain": [
       "<Figure size 432x288 with 1 Axes>"
      ]
     },
     "metadata": {
      "needs_background": "light"
     },
     "output_type": "display_data"
    }
   ],
   "source": [
    "for i in x:\n",
    "    if x[i].dtype =='float64':\n",
    "        sns.boxplot(x[i])\n",
    "        plt.show()"
   ]
  },
  {
   "cell_type": "markdown",
   "metadata": {},
   "source": [
    "### Feature Scaling"
   ]
  },
  {
   "cell_type": "code",
   "execution_count": 35,
   "metadata": {},
   "outputs": [
    {
     "data": {
      "text/html": [
       "<div>\n",
       "<style scoped>\n",
       "    .dataframe tbody tr th:only-of-type {\n",
       "        vertical-align: middle;\n",
       "    }\n",
       "\n",
       "    .dataframe tbody tr th {\n",
       "        vertical-align: top;\n",
       "    }\n",
       "\n",
       "    .dataframe thead th {\n",
       "        text-align: right;\n",
       "    }\n",
       "</style>\n",
       "<table border=\"1\" class=\"dataframe\">\n",
       "  <thead>\n",
       "    <tr style=\"text-align: right;\">\n",
       "      <th></th>\n",
       "      <th>0</th>\n",
       "      <th>1</th>\n",
       "      <th>2</th>\n",
       "      <th>3</th>\n",
       "      <th>4</th>\n",
       "      <th>5</th>\n",
       "      <th>6</th>\n",
       "      <th>7</th>\n",
       "      <th>8</th>\n",
       "      <th>9</th>\n",
       "      <th>10</th>\n",
       "    </tr>\n",
       "  </thead>\n",
       "  <tbody>\n",
       "    <tr>\n",
       "      <td>0</td>\n",
       "      <td>-0.200620</td>\n",
       "      <td>-0.558840</td>\n",
       "      <td>0.584334</td>\n",
       "      <td>-0.659156</td>\n",
       "      <td>1.117711</td>\n",
       "      <td>-0.398772</td>\n",
       "      <td>-0.853154</td>\n",
       "      <td>0.768381</td>\n",
       "      <td>-0.712832</td>\n",
       "      <td>-0.606676</td>\n",
       "      <td>-0.600184</td>\n",
       "    </tr>\n",
       "    <tr>\n",
       "      <td>1</td>\n",
       "      <td>2.018616</td>\n",
       "      <td>-0.558840</td>\n",
       "      <td>0.584334</td>\n",
       "      <td>1.517091</td>\n",
       "      <td>-0.277425</td>\n",
       "      <td>1.968871</td>\n",
       "      <td>1.372137</td>\n",
       "      <td>0.768381</td>\n",
       "      <td>-0.712832</td>\n",
       "      <td>-0.606676</td>\n",
       "      <td>-0.600184</td>\n",
       "    </tr>\n",
       "    <tr>\n",
       "      <td>2</td>\n",
       "      <td>0.908998</td>\n",
       "      <td>-0.558840</td>\n",
       "      <td>0.584334</td>\n",
       "      <td>1.517091</td>\n",
       "      <td>-0.476730</td>\n",
       "      <td>-0.398772</td>\n",
       "      <td>1.372137</td>\n",
       "      <td>0.768381</td>\n",
       "      <td>-0.712832</td>\n",
       "      <td>-0.606676</td>\n",
       "      <td>1.666156</td>\n",
       "    </tr>\n",
       "    <tr>\n",
       "      <td>3</td>\n",
       "      <td>0.354189</td>\n",
       "      <td>-0.558840</td>\n",
       "      <td>0.584334</td>\n",
       "      <td>-0.659156</td>\n",
       "      <td>0.320491</td>\n",
       "      <td>0.785050</td>\n",
       "      <td>0.259492</td>\n",
       "      <td>0.768381</td>\n",
       "      <td>-0.712832</td>\n",
       "      <td>1.648327</td>\n",
       "      <td>-0.600184</td>\n",
       "    </tr>\n",
       "    <tr>\n",
       "      <td>4</td>\n",
       "      <td>-0.755429</td>\n",
       "      <td>-0.558840</td>\n",
       "      <td>0.584334</td>\n",
       "      <td>1.517091</td>\n",
       "      <td>-2.270477</td>\n",
       "      <td>-1.582593</td>\n",
       "      <td>-0.853154</td>\n",
       "      <td>0.768381</td>\n",
       "      <td>-0.712832</td>\n",
       "      <td>-0.606676</td>\n",
       "      <td>1.666156</td>\n",
       "    </tr>\n",
       "    <tr>\n",
       "      <td>...</td>\n",
       "      <td>...</td>\n",
       "      <td>...</td>\n",
       "      <td>...</td>\n",
       "      <td>...</td>\n",
       "      <td>...</td>\n",
       "      <td>...</td>\n",
       "      <td>...</td>\n",
       "      <td>...</td>\n",
       "      <td>...</td>\n",
       "      <td>...</td>\n",
       "      <td>...</td>\n",
       "    </tr>\n",
       "    <tr>\n",
       "      <td>52962</td>\n",
       "      <td>-0.755429</td>\n",
       "      <td>-0.558840</td>\n",
       "      <td>0.584334</td>\n",
       "      <td>-0.659156</td>\n",
       "      <td>1.117711</td>\n",
       "      <td>-0.398772</td>\n",
       "      <td>-0.853154</td>\n",
       "      <td>0.768381</td>\n",
       "      <td>-0.712832</td>\n",
       "      <td>-0.606676</td>\n",
       "      <td>-0.600184</td>\n",
       "    </tr>\n",
       "    <tr>\n",
       "      <td>52963</td>\n",
       "      <td>0.354189</td>\n",
       "      <td>1.678928</td>\n",
       "      <td>0.584334</td>\n",
       "      <td>-0.659156</td>\n",
       "      <td>-0.277425</td>\n",
       "      <td>0.785050</td>\n",
       "      <td>1.928460</td>\n",
       "      <td>0.768381</td>\n",
       "      <td>-0.712832</td>\n",
       "      <td>-0.606676</td>\n",
       "      <td>1.666156</td>\n",
       "    </tr>\n",
       "    <tr>\n",
       "      <td>52964</td>\n",
       "      <td>0.908998</td>\n",
       "      <td>-0.558840</td>\n",
       "      <td>0.584334</td>\n",
       "      <td>1.517091</td>\n",
       "      <td>-0.078120</td>\n",
       "      <td>0.785050</td>\n",
       "      <td>0.259492</td>\n",
       "      <td>0.768381</td>\n",
       "      <td>-0.712832</td>\n",
       "      <td>-0.606676</td>\n",
       "      <td>1.666156</td>\n",
       "    </tr>\n",
       "    <tr>\n",
       "      <td>52965</td>\n",
       "      <td>-0.755429</td>\n",
       "      <td>-0.558840</td>\n",
       "      <td>0.584334</td>\n",
       "      <td>1.517091</td>\n",
       "      <td>0.320491</td>\n",
       "      <td>-1.582593</td>\n",
       "      <td>0.259492</td>\n",
       "      <td>0.768381</td>\n",
       "      <td>-0.712832</td>\n",
       "      <td>-0.606676</td>\n",
       "      <td>-0.600184</td>\n",
       "    </tr>\n",
       "    <tr>\n",
       "      <td>52966</td>\n",
       "      <td>0.354189</td>\n",
       "      <td>-0.558840</td>\n",
       "      <td>-1.711350</td>\n",
       "      <td>-0.659156</td>\n",
       "      <td>0.320491</td>\n",
       "      <td>-0.398772</td>\n",
       "      <td>0.259492</td>\n",
       "      <td>0.768381</td>\n",
       "      <td>-0.712832</td>\n",
       "      <td>-0.606676</td>\n",
       "      <td>1.666156</td>\n",
       "    </tr>\n",
       "  </tbody>\n",
       "</table>\n",
       "<p>52967 rows × 11 columns</p>\n",
       "</div>"
      ],
      "text/plain": [
       "              0         1         2         3         4         5         6  \\\n",
       "0     -0.200620 -0.558840  0.584334 -0.659156  1.117711 -0.398772 -0.853154   \n",
       "1      2.018616 -0.558840  0.584334  1.517091 -0.277425  1.968871  1.372137   \n",
       "2      0.908998 -0.558840  0.584334  1.517091 -0.476730 -0.398772  1.372137   \n",
       "3      0.354189 -0.558840  0.584334 -0.659156  0.320491  0.785050  0.259492   \n",
       "4     -0.755429 -0.558840  0.584334  1.517091 -2.270477 -1.582593 -0.853154   \n",
       "...         ...       ...       ...       ...       ...       ...       ...   \n",
       "52962 -0.755429 -0.558840  0.584334 -0.659156  1.117711 -0.398772 -0.853154   \n",
       "52963  0.354189  1.678928  0.584334 -0.659156 -0.277425  0.785050  1.928460   \n",
       "52964  0.908998 -0.558840  0.584334  1.517091 -0.078120  0.785050  0.259492   \n",
       "52965 -0.755429 -0.558840  0.584334  1.517091  0.320491 -1.582593  0.259492   \n",
       "52966  0.354189 -0.558840 -1.711350 -0.659156  0.320491 -0.398772  0.259492   \n",
       "\n",
       "              7         8         9        10  \n",
       "0      0.768381 -0.712832 -0.606676 -0.600184  \n",
       "1      0.768381 -0.712832 -0.606676 -0.600184  \n",
       "2      0.768381 -0.712832 -0.606676  1.666156  \n",
       "3      0.768381 -0.712832  1.648327 -0.600184  \n",
       "4      0.768381 -0.712832 -0.606676  1.666156  \n",
       "...         ...       ...       ...       ...  \n",
       "52962  0.768381 -0.712832 -0.606676 -0.600184  \n",
       "52963  0.768381 -0.712832 -0.606676  1.666156  \n",
       "52964  0.768381 -0.712832 -0.606676  1.666156  \n",
       "52965  0.768381 -0.712832 -0.606676 -0.600184  \n",
       "52966  0.768381 -0.712832 -0.606676  1.666156  \n",
       "\n",
       "[52967 rows x 11 columns]"
      ]
     },
     "execution_count": 35,
     "metadata": {},
     "output_type": "execute_result"
    }
   ],
   "source": [
    "# standardization : -3 to 3\n",
    "\n",
    "from sklearn.preprocessing import StandardScaler\n",
    "\n",
    "sc= StandardScaler()\n",
    "sc_x = sc.fit_transform(x)\n",
    "pd.DataFrame(sc_x)\n"
   ]
  },
  {
   "cell_type": "code",
   "execution_count": 36,
   "metadata": {},
   "outputs": [
    {
     "data": {
      "text/plain": [
       "numpy.ndarray"
      ]
     },
     "execution_count": 36,
     "metadata": {},
     "output_type": "execute_result"
    }
   ],
   "source": [
    "type(sc_x)"
   ]
  },
  {
   "cell_type": "markdown",
   "metadata": {},
   "source": [
    "### Finding corelation"
   ]
  },
  {
   "cell_type": "code",
   "execution_count": 37,
   "metadata": {},
   "outputs": [
    {
     "data": {
      "image/png": "[encoded data removed]",
      "text/plain": [
       "<Figure size 1584x1296 with 2 Axes>"
      ]
     },
     "metadata": {
      "needs_background": "light"
     },
     "output_type": "display_data"
    }
   ],
   "source": [
    "plt.figure(figsize=(22,18))\n",
    "corr = df.corr()\n",
    "sns.heatmap(corr, annot=True, cmap='coolwarm')\n",
    "plt.show()"
   ]
  },
  {
   "cell_type": "code",
   "execution_count": 38,
   "metadata": {},
   "outputs": [],
   "source": [
    "# from above we get :\n",
    "    # beds and accomodation strong postive correlation i.e 80%\n",
    "    # room_type_Entire home/apt and room_type_private_room  strong negative corelation i.e -93%"
   ]
  },
  {
   "cell_type": "markdown",
   "metadata": {},
   "source": [
    "### Multi colinearity check using vif"
   ]
  },
  {
   "cell_type": "code",
   "execution_count": 39,
   "metadata": {},
   "outputs": [
    {
     "data": {
      "text/plain": [
       "(52967, 11)"
      ]
     },
     "execution_count": 39,
     "metadata": {},
     "output_type": "execute_result"
    }
   ],
   "source": [
    "variable = sc_x\n",
    "variable.shape"
   ]
  },
  {
   "cell_type": "code",
   "execution_count": 40,
   "metadata": {},
   "outputs": [
    {
     "data": {
      "text/html": [
       "<div>\n",
       "<style scoped>\n",
       "    .dataframe tbody tr th:only-of-type {\n",
       "        vertical-align: middle;\n",
       "    }\n",
       "\n",
       "    .dataframe tbody tr th {\n",
       "        vertical-align: top;\n",
       "    }\n",
       "\n",
       "    .dataframe thead th {\n",
       "        text-align: right;\n",
       "    }\n",
       "</style>\n",
       "<table border=\"1\" class=\"dataframe\">\n",
       "  <thead>\n",
       "    <tr style=\"text-align: right;\">\n",
       "      <th></th>\n",
       "      <th>Variance Inflation Factor</th>\n",
       "      <th>Features</th>\n",
       "    </tr>\n",
       "  </thead>\n",
       "  <tbody>\n",
       "    <tr>\n",
       "      <td>0</td>\n",
       "      <td>4.021521</td>\n",
       "      <td>accommodates</td>\n",
       "    </tr>\n",
       "    <tr>\n",
       "      <td>1</td>\n",
       "      <td>1.481298</td>\n",
       "      <td>bathrooms</td>\n",
       "    </tr>\n",
       "    <tr>\n",
       "      <td>2</td>\n",
       "      <td>1.145544</td>\n",
       "      <td>cleaning_fee</td>\n",
       "    </tr>\n",
       "    <tr>\n",
       "      <td>3</td>\n",
       "      <td>1.015070</td>\n",
       "      <td>instant_bookable</td>\n",
       "    </tr>\n",
       "    <tr>\n",
       "      <td>4</td>\n",
       "      <td>1.022523</td>\n",
       "      <td>review_scores_rating</td>\n",
       "    </tr>\n",
       "    <tr>\n",
       "      <td>5</td>\n",
       "      <td>2.487449</td>\n",
       "      <td>bedrooms</td>\n",
       "    </tr>\n",
       "    <tr>\n",
       "      <td>6</td>\n",
       "      <td>3.382128</td>\n",
       "      <td>beds</td>\n",
       "    </tr>\n",
       "    <tr>\n",
       "      <td>7</td>\n",
       "      <td>7.805505</td>\n",
       "      <td>room_type_Entire home/apt</td>\n",
       "    </tr>\n",
       "    <tr>\n",
       "      <td>8</td>\n",
       "      <td>7.259401</td>\n",
       "      <td>room_type_Private room</td>\n",
       "    </tr>\n",
       "    <tr>\n",
       "      <td>9</td>\n",
       "      <td>1.298374</td>\n",
       "      <td>cancellation_policy_flexible</td>\n",
       "    </tr>\n",
       "    <tr>\n",
       "      <td>10</td>\n",
       "      <td>1.182628</td>\n",
       "      <td>cancellation_policy_moderate</td>\n",
       "    </tr>\n",
       "  </tbody>\n",
       "</table>\n",
       "</div>"
      ],
      "text/plain": [
       "    Variance Inflation Factor                      Features\n",
       "0                    4.021521                  accommodates\n",
       "1                    1.481298                     bathrooms\n",
       "2                    1.145544                  cleaning_fee\n",
       "3                    1.015070              instant_bookable\n",
       "4                    1.022523          review_scores_rating\n",
       "5                    2.487449                      bedrooms\n",
       "6                    3.382128                          beds\n",
       "7                    7.805505     room_type_Entire home/apt\n",
       "8                    7.259401        room_type_Private room\n",
       "9                    1.298374  cancellation_policy_flexible\n",
       "10                   1.182628  cancellation_policy_moderate"
      ]
     },
     "execution_count": 40,
     "metadata": {},
     "output_type": "execute_result"
    }
   ],
   "source": [
    "from statsmodels.stats.outliers_influence import variance_inflation_factor\n",
    "variable = sc_x\n",
    "\n",
    "vif = pd.DataFrame()\n",
    "\n",
    "vif['Variance Inflation Factor'] = [variance_inflation_factor(variable, i ) for i in range(variable.shape[1])]\n",
    "\n",
    "vif['Features'] = x.columns\n",
    "vif"
   ]
  },
  {
   "cell_type": "markdown",
   "metadata": {},
   "source": [
    "## OLS model"
   ]
  },
  {
   "cell_type": "code",
   "execution_count": 41,
   "metadata": {},
   "outputs": [
    {
     "name": "stdout",
     "output_type": "stream",
     "text": [
      "(39725, 11) (13242, 11) (39725,) (13242,)\n"
     ]
    },
    {
     "data": {
      "text/html": [
       "<table class=\"simpletable\">\n",
       "<caption>OLS Regression Results</caption>\n",
       "<tr>\n",
       "  <th>Dep. Variable:</th>        <td>log_price</td>    <th>  R-squared (uncentered):</th>      <td>   0.988</td> \n",
       "</tr>\n",
       "<tr>\n",
       "  <th>Model:</th>                   <td>OLS</td>       <th>  Adj. R-squared (uncentered):</th> <td>   0.988</td> \n",
       "</tr>\n",
       "<tr>\n",
       "  <th>Method:</th>             <td>Least Squares</td>  <th>  F-statistic:       </th>          <td>2.916e+05</td>\n",
       "</tr>\n",
       "<tr>\n",
       "  <th>Date:</th>             <td>Sun, 06 Aug 2023</td> <th>  Prob (F-statistic):</th>           <td>  0.00</td>  \n",
       "</tr>\n",
       "<tr>\n",
       "  <th>Time:</th>                 <td>18:29:56</td>     <th>  Log-Likelihood:    </th>          <td> -32247.</td> \n",
       "</tr>\n",
       "<tr>\n",
       "  <th>No. Observations:</th>      <td> 39725</td>      <th>  AIC:               </th>          <td>6.452e+04</td>\n",
       "</tr>\n",
       "<tr>\n",
       "  <th>Df Residuals:</th>          <td> 39714</td>      <th>  BIC:               </th>          <td>6.461e+04</td>\n",
       "</tr>\n",
       "<tr>\n",
       "  <th>Df Model:</th>              <td>    11</td>      <th>                     </th>              <td> </td>    \n",
       "</tr>\n",
       "<tr>\n",
       "  <th>Covariance Type:</th>      <td>nonrobust</td>    <th>                     </th>              <td> </td>    \n",
       "</tr>\n",
       "</table>\n",
       "<table class=\"simpletable\">\n",
       "<tr>\n",
       "                <td></td>                  <th>coef</th>     <th>std err</th>      <th>t</th>      <th>P>|t|</th>  <th>[0.025</th>    <th>0.975]</th>  \n",
       "</tr>\n",
       "<tr>\n",
       "  <th>accommodates</th>                 <td>    0.0991</td> <td>    0.003</td> <td>   32.597</td> <td> 0.000</td> <td>    0.093</td> <td>    0.105</td>\n",
       "</tr>\n",
       "<tr>\n",
       "  <th>bathrooms</th>                    <td>    0.2068</td> <td>    0.007</td> <td>   27.934</td> <td> 0.000</td> <td>    0.192</td> <td>    0.221</td>\n",
       "</tr>\n",
       "<tr>\n",
       "  <th>cleaning_fee</th>                 <td>   -0.0633</td> <td>    0.007</td> <td>   -9.458</td> <td> 0.000</td> <td>   -0.076</td> <td>   -0.050</td>\n",
       "</tr>\n",
       "<tr>\n",
       "  <th>instant_bookable</th>             <td>   -0.0464</td> <td>    0.006</td> <td>   -7.771</td> <td> 0.000</td> <td>   -0.058</td> <td>   -0.035</td>\n",
       "</tr>\n",
       "<tr>\n",
       "  <th>review_scores_rating</th>         <td>    0.0343</td> <td>    0.000</td> <td>  187.326</td> <td> 0.000</td> <td>    0.034</td> <td>    0.035</td>\n",
       "</tr>\n",
       "<tr>\n",
       "  <th>bedrooms</th>                     <td>    0.1531</td> <td>    0.005</td> <td>   30.103</td> <td> 0.000</td> <td>    0.143</td> <td>    0.163</td>\n",
       "</tr>\n",
       "<tr>\n",
       "  <th>beds</th>                         <td>   -0.0361</td> <td>    0.006</td> <td>   -6.448</td> <td> 0.000</td> <td>   -0.047</td> <td>   -0.025</td>\n",
       "</tr>\n",
       "<tr>\n",
       "  <th>room_type_Entire home/apt</th>    <td>    1.2029</td> <td>    0.015</td> <td>   77.757</td> <td> 0.000</td> <td>    1.173</td> <td>    1.233</td>\n",
       "</tr>\n",
       "<tr>\n",
       "  <th>room_type_Private room</th>       <td>    0.6202</td> <td>    0.015</td> <td>   41.062</td> <td> 0.000</td> <td>    0.591</td> <td>    0.650</td>\n",
       "</tr>\n",
       "<tr>\n",
       "  <th>cancellation_policy_flexible</th> <td>    0.0156</td> <td>    0.007</td> <td>    2.218</td> <td> 0.027</td> <td>    0.002</td> <td>    0.029</td>\n",
       "</tr>\n",
       "<tr>\n",
       "  <th>cancellation_policy_moderate</th> <td>   -0.0564</td> <td>    0.007</td> <td>   -8.373</td> <td> 0.000</td> <td>   -0.070</td> <td>   -0.043</td>\n",
       "</tr>\n",
       "</table>\n",
       "<table class=\"simpletable\">\n",
       "<tr>\n",
       "  <th>Omnibus:</th>       <td>3171.698</td> <th>  Durbin-Watson:     </th> <td>   2.008</td>\n",
       "</tr>\n",
       "<tr>\n",
       "  <th>Prob(Omnibus):</th>  <td> 0.000</td>  <th>  Jarque-Bera (JB):  </th> <td>6883.860</td>\n",
       "</tr>\n",
       "<tr>\n",
       "  <th>Skew:</th>           <td> 0.520</td>  <th>  Prob(JB):          </th> <td>    0.00</td>\n",
       "</tr>\n",
       "<tr>\n",
       "  <th>Kurtosis:</th>       <td> 4.754</td>  <th>  Cond. No.          </th> <td>    729.</td>\n",
       "</tr>\n",
       "</table><br/><br/>Warnings:<br/>[1] Standard Errors assume that the covariance matrix of the errors is correctly specified."
      ],
      "text/plain": [
       "<class 'statsmodels.iolib.summary.Summary'>\n",
       "\"\"\"\n",
       "                                 OLS Regression Results                                \n",
       "=======================================================================================\n",
       "Dep. Variable:              log_price   R-squared (uncentered):                   0.988\n",
       "Model:                            OLS   Adj. R-squared (uncentered):              0.988\n",
       "Method:                 Least Squares   F-statistic:                          2.916e+05\n",
       "Date:                Sun, 06 Aug 2023   Prob (F-statistic):                        0.00\n",
       "Time:                        18:29:56   Log-Likelihood:                         -32247.\n",
       "No. Observations:               39725   AIC:                                  6.452e+04\n",
       "Df Residuals:                   39714   BIC:                                  6.461e+04\n",
       "Df Model:                          11                                                  \n",
       "Covariance Type:            nonrobust                                                  \n",
       "================================================================================================\n",
       "                                   coef    std err          t      P>|t|      [0.025      0.975]\n",
       "------------------------------------------------------------------------------------------------\n",
       "accommodates                     0.0991      0.003     32.597      0.000       0.093       0.105\n",
       "bathrooms                        0.2068      0.007     27.934      0.000       0.192       0.221\n",
       "cleaning_fee                    -0.0633      0.007     -9.458      0.000      -0.076      -0.050\n",
       "instant_bookable                -0.0464      0.006     -7.771      0.000      -0.058      -0.035\n",
       "review_scores_rating             0.0343      0.000    187.326      0.000       0.034       0.035\n",
       "bedrooms                         0.1531      0.005     30.103      0.000       0.143       0.163\n",
       "beds                            -0.0361      0.006     -6.448      0.000      -0.047      -0.025\n",
       "room_type_Entire home/apt        1.2029      0.015     77.757      0.000       1.173       1.233\n",
       "room_type_Private room           0.6202      0.015     41.062      0.000       0.591       0.650\n",
       "cancellation_policy_flexible     0.0156      0.007      2.218      0.027       0.002       0.029\n",
       "cancellation_policy_moderate    -0.0564      0.007     -8.373      0.000      -0.070      -0.043\n",
       "==============================================================================\n",
       "Omnibus:                     3171.698   Durbin-Watson:                   2.008\n",
       "Prob(Omnibus):                  0.000   Jarque-Bera (JB):             6883.860\n",
       "Skew:                           0.520   Prob(JB):                         0.00\n",
       "Kurtosis:                       4.754   Cond. No.                         729.\n",
       "==============================================================================\n",
       "\n",
       "Warnings:\n",
       "[1] Standard Errors assume that the covariance matrix of the errors is correctly specified.\n",
       "\"\"\""
      ]
     },
     "execution_count": 41,
     "metadata": {},
     "output_type": "execute_result"
    }
   ],
   "source": [
    "# without removing column \n",
    "# without standardization\n",
    "\n",
    "#_____________________\n",
    "from sklearn.model_selection import train_test_split\n",
    "\n",
    "x_train, x_test, y_train, y_test = train_test_split(x, y, test_size=0.25, random_state=101)\n",
    "\n",
    "print(x_train.shape, x_test.shape, y_train.shape, y_test.shape)\n",
    "\n",
    "# _-----------------------\n",
    "\n",
    "from statsmodels.regression.linear_model import OLS\n",
    "import statsmodels.regression.linear_model as smf\n",
    "reg_model = smf.OLS(endog = y_train, exog=x_train).fit()\n",
    "reg_model.summary()"
   ]
  }
 ],
 "metadata": {
  "kernelspec": {
   "display_name": "Python 3",
   "language": "python",
   "name": "python3"
  },
  "language_info": {
   "codemirror_mode": {
    "name": "ipython",
    "version": 3
   },
   "file_extension": ".py",
   "mimetype": "text/x-python",
   "name": "python",
   "nbconvert_exporter": "python",
   "pygments_lexer": "ipython3",
   "version": "3.7.4"
  }
 },
 "nbformat": 4,
 "nbformat_minor": 2
}
